{
 "cells": [
  {
   "cell_type": "code",
   "execution_count": null,
   "id": "7ba14959",
   "metadata": {},
   "outputs": [],
   "source": [
    "# Question: Sort the list [\"apple\", \"kiwi\", \"banana\"] by string length using a lambda function.\n",
    "#Output: ['kiwi', 'apple', 'banana']\n"
   ]
  },
  {
   "cell_type": "code",
   "execution_count": null,
   "id": "e83fb217",
   "metadata": {},
   "outputs": [],
   "source": [
    "#  Filter strings from [\"apple\", \"banana\", \"kiwi\", \"orange\"] that start with a vowel (a, e, i, o, u) using a lambda function.\n",
    "# Output: ['apple', 'orange']"
   ]
  },
  {
   "cell_type": "code",
   "execution_count": null,
   "id": "7633f038",
   "metadata": {},
   "outputs": [],
   "source": [
    "#Question: Given two lists [1, 2, 3] and [4, 5, 6], use a lambda function with map() to create a list of their sums [5, 7, 9].\n",
    "# Output: [5, 7, 9]"
   ]
  },
  {
   "cell_type": "code",
   "execution_count": null,
   "id": "110a79ed",
   "metadata": {},
   "outputs": [],
   "source": [
    "#Question: Sort the list of dictionaries [{\"name\": \"John\", \"age\": 30}, {\"name\": \"Amy\", \"age\": 25}, {\"name\": \"Bob\", \"age\": 35}] by the \"age\" key using a lambda function.\n",
    "# Output: [{'name': 'Amy', 'age': 25}, {'name': 'John', 'age': 30}, {'name': 'Bob', 'age': 35}]\n"
   ]
  },
  {
   "cell_type": "code",
   "execution_count": null,
   "id": "f30ea133",
   "metadata": {},
   "outputs": [],
   "source": [
    "# Question: Transform numbers in [1, -2, 3, -4] to their absolute values if negative, otherwise square them, using a nested lambda function with map().\n",
    "# Output: [1, 2, 9, 4]"
   ]
  },
  {
   "cell_type": "code",
   "execution_count": null,
   "id": "2f91141e",
   "metadata": {},
   "outputs": [],
   "source": [
    "# Question: From the list [{\"name\": \"John\", \"age\": 30, \"gender\": \"male\"}, {\"name\": \"Amy\", \"age\": 25, \"gender\": \"female\"}, {\"name\": \"Bob\", \"age\": 35, \"gender\": \"male\"}], filter dictionaries where \"age\" is greater than 28 and \"gender\" is \"male\" using a lambda function.\n",
    "#Output: [{'name': 'John', 'age': 30, 'gender': 'male'}, {'name': 'Bob', 'age': 35, 'gender': 'male'}]"
   ]
  },
  {
   "cell_type": "code",
   "execution_count": null,
   "id": "266f11e3",
   "metadata": {},
   "outputs": [],
   "source": [
    "#: Use a lambda function to compute the factorial of 5 (i.e., 5! = 5 * 4 * 3 * 2 * 1 = 120) using recursion.\n",
    "# Output: 120"
   ]
  },
  {
   "cell_type": "code",
   "execution_count": null,
   "id": "e15552ae",
   "metadata": {},
   "outputs": [],
   "source": [
    "'''\n",
    "Question: In a data processing pipeline, filter valid email addresses from a list [\"john@company.com\", \"invalid.email\", \"alice@company.com\", \"bob@.com\"] using a lambda function. \n",
    "Assume a valid email has an @ and ends with .com\n",
    "Output: ['john@company.com', 'alice@company.com']\n",
    "'''"
   ]
  },
  {
   "cell_type": "code",
   "execution_count": null,
   "id": "e2f2ef38",
   "metadata": {},
   "outputs": [],
   "source": [
    "'''\n",
    "Question: In an e-commerce system, compute the total value of orders [{'item': 'book', 'price': 20}, {'item': 'pen', 'price': 5}, {'item': 'laptop', 'price': 1000}] using a lambda with map() and sum().\n",
    "Output: 1025\n",
    "'''"
   ]
  },
  {
   "cell_type": "code",
   "execution_count": null,
   "id": "e8221f5d",
   "metadata": {},
   "outputs": [],
   "source": [
    "'''\n",
    "Sort API responses [{\"id\": 1, \"timestamp\": \"2025-07-09T10:00:00\"}, {\"id\": 2, \"timestamp\": \"2025-07-09T09:00:00\"}, {\"id\": 3, \"timestamp\": \"2025-07-09T11:00:00\"}] by timestamp using a lambda function.\n",
    "Output: [{'id': 2, 'timestamp': '2025-07-09T09:00:00'}, {'id': 1, 'timestamp': '2025-07-09T10:00:00'}, {'id': 3, 'timestamp': '2025-07-09T11:00:00'}]\n",
    "'''"
   ]
  },
  {
   "cell_type": "code",
   "execution_count": null,
   "id": "08bb0d41",
   "metadata": {},
   "outputs": [],
   "source": [
    "'''\n",
    "From sales data [{\"region\": \"North\", \"amount\": 100}, {\"region\": \"South\", \"amount\": 150}, {\"region\": \"North\", \"amount\": 200}], calculate total sales per region using a lambda function with reduce().\n",
    "Output: {'North': 300, 'South': 150}\n",
    "Hint: from functools import reduce (use this module)\n",
    "'''"
   ]
  },
  {
   "cell_type": "code",
   "execution_count": null,
   "id": "e003cd88",
   "metadata": {},
   "outputs": [],
   "source": [
    "'''\n",
    "Question: Filter API responses [{\"data\": {\"id\": 1}, \"status\": \"success\"}, {\"data\": None, \"status\": \"error\"}, {\"data\": {\"id\": 2}, \"status\": \"success\"}] where status is \"success\" and data is not None using a lambda function.\n",
    "Output: [{'name': 'Mouse', 'price': 20}, {'name': 'Keyboard', 'price': 50}, {'name': 'Laptop', 'price': 1000}]\n",
    "'''"
   ]
  },
  {
   "cell_type": "code",
   "execution_count": null,
   "id": "3a4890a4",
   "metadata": {},
   "outputs": [],
   "source": [
    "'''Transform transaction data [{\"amount\": 100, \"currency\": \"USD\"}, {\"amount\": 50, \"currency\": \"EUR\"}] to convert amounts to USD (assume 1 EUR = 1.1 USD) using a nested lambda function.\n",
    "Output: [{'amount': 100, 'currency': 'USD'}, {'amount': 55.0, 'currency': 'USD'}]\n",
    "'''"
   ]
  },
  {
   "cell_type": "code",
   "execution_count": null,
   "id": "b3b9efba",
   "metadata": {},
   "outputs": [],
   "source": [
    "'''\n",
    "Question: Given a list of file paths [\"docs/file1.txt\", \"docs/subfolder/file2.txt\", \"images/photo.jpg\"], extract the file extensions using a lambda function with recursion to handle nested paths.\n",
    "Output: ['txt', 'txt', 'jpg']\n",
    "'''"
   ]
  },
  {
   "cell_type": "code",
   "execution_count": null,
   "id": "87abc95d",
   "metadata": {},
   "outputs": [],
   "source": [
    "'''\n",
    "1. Finance: Calculate Portfolio Returns\n",
    "Question: In a financial application, you have a portfolio of stocks [{\"symbol\": \"AAPL\", \"shares\": 10, \"price\": 150}, {\"symbol\": \"GOOG\", \"shares\": 5, \"price\": 2800}, {\"symbol\": \"TSLA\", \"shares\": 8, \"price\": 700}]. \n",
    "Use a lambda function with map() and sum() to calculate the total portfolio value and the weighted average return, assuming returns are {\"AAPL\": 0.05, \"GOOG\": 0.03, \"TSLA\": 0.08}\n",
    "\n",
    "\n",
    "Expected Output:\n",
    "Total Portfolio Value: $19100\n",
    "Weighted Average Return: 5.27%\n",
    "'''"
   ]
  },
  {
   "cell_type": "code",
   "execution_count": null,
   "id": "8bdf205c",
   "metadata": {},
   "outputs": [],
   "source": [
    "'''\n",
    "Question: In a web application, you receive an API response with user data [{\"username\": \"john_doe\", \"active\": True, \"last_login\": \"2025-07-09T10:00:00\"}, {\"username\": \"jane_smith\", \"active\": False, \"last_login\": \"2025-07-08T15:00:00\"}, {\"username\": \"alice\", \"active\": True, \"last_login\": \"2025-07-09T12:00:00\"}].\n",
    " Use a lambda function to filter active users and transform their data into a list of strings like \"john_doe last logged in at 2025-07-09T10:00:00\".\n",
    "\n",
    " Expected Output: ['john_doe last logged in at 2025-07-09T10:00:00', 'alice last logged in at 2025-07-09T12:00:00']\n",
    "'''"
   ]
  }
 ],
 "metadata": {
  "language_info": {
   "name": "python"
  }
 },
 "nbformat": 4,
 "nbformat_minor": 5
}
