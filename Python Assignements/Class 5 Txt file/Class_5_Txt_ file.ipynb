{
 "cells": [
  {
   "cell_type": "markdown",
   "id": "04bd159c",
   "metadata": {},
   "source": [
    "You are given a server.log file that contains thousands of lines. Some lines contain the word \"ERROR\", some contain \"WARNING\", \n",
    "and some contain \"INFO\".\n",
    "Write a Python program to:\n",
    "Count how many lines contain \"ERROR\".\n",
    "\n",
    "Extract all \"WARNING\" lines and save them to a separate file warnings.txt.\n",
    "\n",
    "Expected Skills Tested:\n",
    "\n",
    "File I/O\n",
    "\n",
    "String search\n",
    "\n",
    "Writing to new files"
   ]
  },
  {
   "cell_type": "markdown",
   "id": "e66666fd",
   "metadata": {},
   "source": [
    "Question 2: Remove Duplicate Lines from a File\n",
    "Q:\n",
    "You’re given a file responses.txt that contains user feedback. Some users submitted multiple identical responses.\n",
    "Write a script to create a new file unique_responses.txt that contains only one instance of each unique response while preserving the original order.\n",
    "\n",
    "Expected Skills Tested:\n",
    "\n",
    "Set usage\n",
    "\n",
    "Maintaining order while eliminating duplicates"
   ]
  },
  {
   "cell_type": "code",
   "execution_count": null,
   "id": "a935c393",
   "metadata": {
    "vscode": {
     "languageId": "plaintext"
    }
   },
   "outputs": [],
   "source": []
  }
 ],
 "metadata": {
  "language_info": {
   "name": "python"
  }
 },
 "nbformat": 4,
 "nbformat_minor": 5
}
