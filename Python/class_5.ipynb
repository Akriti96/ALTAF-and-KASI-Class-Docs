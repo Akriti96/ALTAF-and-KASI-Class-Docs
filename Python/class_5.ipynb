{
 "cells": [
  {
   "cell_type": "markdown",
   "id": "d8d407cb",
   "metadata": {},
   "source": [
    "Lambda Function \n",
    "\n",
    "A lambda function is a small anonymous function. \n",
    "A lambda function can take any number of arguments, but can only have one expression. \n",
    "\n",
    "Syntax:\n",
    "lambda arguments: expression\n"
   ]
  },
  {
   "cell_type": "code",
   "execution_count": 1,
   "id": "f556cd3b",
   "metadata": {},
   "outputs": [
    {
     "data": {
      "text/plain": [
       "7"
      ]
     },
     "execution_count": 1,
     "metadata": {},
     "output_type": "execute_result"
    }
   ],
   "source": [
    "def add(a,b):\n",
    "    return a+b\n",
    "add(4,3)"
   ]
  },
  {
   "cell_type": "code",
   "execution_count": null,
   "id": "7268d661",
   "metadata": {},
   "outputs": [
    {
     "name": "stdout",
     "output_type": "stream",
     "text": [
      "<class 'int'>\n",
      "<class 'int'>\n"
     ]
    }
   ],
   "source": [
    "add=0\n",
    "print(type(add))\n",
    "\n",
    "add= lambda a,b : a+b\n",
    "add(50,60)\n",
    "\n",
    "x= add(100,200)\n",
    "print(type(x))\n"
   ]
  },
  {
   "cell_type": "code",
   "execution_count": null,
   "id": "4418cbd3",
   "metadata": {},
   "outputs": [
    {
     "data": {
      "text/plain": [
       "[1, 4, 27]"
      ]
     },
     "execution_count": 15,
     "metadata": {},
     "output_type": "execute_result"
    }
   ],
   "source": [
    "nums=[1,2,3] \n",
    "# output [1,4,9]  lambad\n",
    "square= lambda a :[i**i  for i in a]\n",
    "square(nums)"
   ]
  },
  {
   "cell_type": "code",
   "execution_count": 24,
   "id": "052ead30",
   "metadata": {},
   "outputs": [
    {
     "name": "stderr",
     "output_type": "stream",
     "text": [
      "C:\\Users\\Mamatha-Win10\\AppData\\Local\\Temp\\ipykernel_5452\\713540783.py:5: FutureWarning: the convert_dtype parameter is deprecated and will be removed in a future version.  Do ``ser.astype(object).apply()`` instead if you want ``convert_dtype=False``.\n",
      "  data[\"value\"]= data[\"value\"].apply(lambda x:  x%2 == 0 ,True)\n"
     ]
    },
    {
     "data": {
      "text/html": [
       "<div>\n",
       "<style scoped>\n",
       "    .dataframe tbody tr th:only-of-type {\n",
       "        vertical-align: middle;\n",
       "    }\n",
       "\n",
       "    .dataframe tbody tr th {\n",
       "        vertical-align: top;\n",
       "    }\n",
       "\n",
       "    .dataframe thead th {\n",
       "        text-align: right;\n",
       "    }\n",
       "</style>\n",
       "<table border=\"1\" class=\"dataframe\">\n",
       "  <thead>\n",
       "    <tr style=\"text-align: right;\">\n",
       "      <th></th>\n",
       "      <th>value</th>\n",
       "      <th>double</th>\n",
       "      <th>student</th>\n",
       "    </tr>\n",
       "  </thead>\n",
       "  <tbody>\n",
       "    <tr>\n",
       "      <th>0</th>\n",
       "      <td>True</td>\n",
       "      <td>100</td>\n",
       "      <td>20</td>\n",
       "    </tr>\n",
       "    <tr>\n",
       "      <th>1</th>\n",
       "      <td>True</td>\n",
       "      <td>200</td>\n",
       "      <td>40</td>\n",
       "    </tr>\n",
       "    <tr>\n",
       "      <th>2</th>\n",
       "      <td>False</td>\n",
       "      <td>350</td>\n",
       "      <td>70</td>\n",
       "    </tr>\n",
       "  </tbody>\n",
       "</table>\n",
       "</div>"
      ],
      "text/plain": [
       "   value  double  student\n",
       "0   True     100       20\n",
       "1   True     200       40\n",
       "2  False     350       70"
      ]
     },
     "execution_count": 24,
     "metadata": {},
     "output_type": "execute_result"
    }
   ],
   "source": [
    "import pandas as pd\n",
    "data= pd.DataFrame({\"value\":[10,20,35]})\n",
    "data[\"double\"]= data[\"value\"].apply(lambda a: a*10)\n",
    "data[\"student\"]= data[\"value\"].apply(lambda a: a*2)\n",
    "data[\"value\"]= data[\"value\"].apply(lambda x:  x%2 == 0 ,True)\n",
    "data"
   ]
  },
  {
   "cell_type": "code",
   "execution_count": 46,
   "id": "02b91cc8",
   "metadata": {},
   "outputs": [
    {
     "data": {
      "text/plain": [
       "'Python is awesome'"
      ]
     },
     "execution_count": 46,
     "metadata": {},
     "output_type": "execute_result"
    }
   ],
   "source": [
    "words = ['Python', 'is', 'awesome']\n",
    "sentence = \" \".join(map(lambda x:x,words))\n",
    "sentence\n"
   ]
  },
  {
   "cell_type": "code",
   "execution_count": 13,
   "id": "4d60d89d",
   "metadata": {},
   "outputs": [
    {
     "data": {
      "text/plain": [
       "[0, 1, 2, 3, 4, 5, 6, 7, 8, 9]"
      ]
     },
     "execution_count": 13,
     "metadata": {},
     "output_type": "execute_result"
    }
   ],
   "source": [
    "# for i in range(10):\n",
    "#     print(i)\n",
    "\n",
    "[i for i in range(10)]"
   ]
  },
  {
   "cell_type": "code",
   "execution_count": null,
   "id": "2c5ab621",
   "metadata": {},
   "outputs": [
    {
     "data": {
      "text/plain": [
       "[5, 10, 15, 20, 25, 30, 35, 40, 45]"
      ]
     },
     "execution_count": 38,
     "metadata": {},
     "output_type": "execute_result"
    }
   ],
   "source": [
    "1. # Square Each Number Using map()\n",
    "numbers=[1,2,3,4,5]\n",
    "square=list(map( lambda i: i**2,numbers))\n",
    "square\n",
    "\n",
    "# print the multiples of 5 (5 to 50) using map\n",
    "# for i in range(5,51,5):\n",
    "#     print(i)\n",
    "\n",
    "multiple= list(map(lambda a :a*5,range(1,10)))\n",
    "multiple\n"
   ]
  },
  {
   "cell_type": "code",
   "execution_count": 48,
   "id": "7ca12ae4",
   "metadata": {},
   "outputs": [
    {
     "name": "stdout",
     "output_type": "stream",
     "text": [
      "[10, 20, 66]\n"
     ]
    }
   ],
   "source": [
    "# Filter Even Numbers Using filter()\n",
    "list1=[10,20,35,45,66,23]\n",
    "even= list(filter(lambda a: a%2 ==0,list1))\n",
    "print(even)\n",
    "\n",
    "\n",
    "prime=[1,2,5,7,0,22,11]\n",
    "#ans= list(map(lambda a: ,prime))# inline single \n",
    "# ans"
   ]
  },
  {
   "cell_type": "code",
   "execution_count": 19,
   "id": "f36724c8",
   "metadata": {},
   "outputs": [
    {
     "data": {
      "text/plain": [
       "[(2, 'A'), (1, 'B'), (3, 'C')]"
      ]
     },
     "execution_count": 19,
     "metadata": {},
     "output_type": "execute_result"
    }
   ],
   "source": [
    "# Sort a List of Tuples by the Second Element\n",
    "data=[(1,\"B\"),(2,\"A\"),(3,\"C\")]\n",
    "sorted_data= sorted(data,key=lambda x:x[1])    # 1 means we are sorting 1 index of each tuple\n",
    "sorted_data\n"
   ]
  },
  {
   "cell_type": "code",
   "execution_count": 23,
   "id": "c85c8e69",
   "metadata": {},
   "outputs": [
    {
     "name": "stdout",
     "output_type": "stream",
     "text": [
      "YAMUNA GOWDA\n",
      "['RAT', 'CAT', 'MAT', 'NET']\n"
     ]
    }
   ],
   "source": [
    "# Convert List of Strings to Uppercase Using map()\n",
    "myname=\"yamuna gowda\"\n",
    "a= lambda x:x.upper()\n",
    "print(a(myname))\n",
    "\n",
    "\n",
    "names=[\"raT\",\"CaT\",\"mat\",\"net\"]\n",
    "a=list(map(lambda x:x.upper(),names))\n",
    "print(a)"
   ]
  },
  {
   "cell_type": "code",
   "execution_count": 24,
   "id": "13614da6",
   "metadata": {},
   "outputs": [
    {
     "data": {
      "text/plain": [
       "[1, 2, 3, 4, 5, 6, 7, 8, 9, 10]"
      ]
     },
     "execution_count": 24,
     "metadata": {},
     "output_type": "execute_result"
    }
   ],
   "source": [
    "#  Add 10 to Each Element in a List\n",
    "a= list(map(lambda x: x,range(1,11)))\n",
    "a"
   ]
  },
  {
   "cell_type": "code",
   "execution_count": 30,
   "id": "6eb0910f",
   "metadata": {},
   "outputs": [
    {
     "name": "stdout",
     "output_type": "stream",
     "text": [
      "[6, 4, 5]\n",
      "yamuna\n"
     ]
    }
   ],
   "source": [
    "name = [\"yamuna\", \"amir\", \"khasi\"]\n",
    "a = list(map(lambda x: len(x), name))  # Get lengths: [6, 4, 5]\n",
    "longest_word = max(name, key=lambda x: len(x))  # Get longest word\n",
    "print(a)  # [6, 4, 5]\n",
    "print(longest_word)  # yamuna"
   ]
  },
  {
   "cell_type": "code",
   "execution_count": 33,
   "id": "cc398b3d",
   "metadata": {},
   "outputs": [
    {
     "data": {
      "text/plain": [
       "[['name', 'age', 'gender'],\n",
       " ['name', 'age', 'gender'],\n",
       " ['name', 'age', 'gender']]"
      ]
     },
     "execution_count": 33,
     "metadata": {},
     "output_type": "execute_result"
    }
   ],
   "source": [
    "# get the keys in the given dictionary using lambda function\n",
    "users=[\n",
    "    {\n",
    "        'name':\"johan\",\n",
    "        \"age\":45,\n",
    "        \"gender\":\"male\"\n",
    "    },\n",
    "    {\n",
    "        'name':\"Riya\",\n",
    "        \"age\":35,\n",
    "        \"gender\":\"female\"\n",
    "    },\n",
    "    {\n",
    "        'name':\"Bosh\",\n",
    "        \"age\":25,\n",
    "        \"gender\":\"male\"\n",
    "    }\n",
    "]\n",
    "\n",
    "a= list(map(lambda x: list(x.keys()),users))\n",
    "a"
   ]
  },
  {
   "cell_type": "markdown",
   "id": "5f8fa482",
   "metadata": {},
   "source": [
    "comprehensive  method"
   ]
  },
  {
   "cell_type": "code",
   "execution_count": 31,
   "id": "1b9e20bb",
   "metadata": {},
   "outputs": [],
   "source": [
    "# numbers greater than 5\n",
    "l=[1,3,5,6,10,11,13]"
   ]
  },
  {
   "cell_type": "code",
   "execution_count": 7,
   "id": "1dc26927",
   "metadata": {},
   "outputs": [
    {
     "data": {
      "text/plain": [
       "['apple', 'avacdo']"
      ]
     },
     "execution_count": 7,
     "metadata": {},
     "output_type": "execute_result"
    }
   ],
   "source": [
    "# fetch fruits staring with 'a'\n",
    "fruits=[\"apple\",\"guava\",\"cherry\",\"avacdo\"]\n",
    "a= list(filter(lambda x:x.startswith('a'),fruits))\n",
    "a"
   ]
  },
  {
   "cell_type": "code",
   "execution_count": null,
   "id": "e7aff7be",
   "metadata": {},
   "outputs": [
    {
     "name": "stdout",
     "output_type": "stream",
     "text": [
      "['apple']\n"
     ]
    }
   ],
   "source": [
    "# check fruit in my_fruits list is their in basket and also it should startwith letter a\n",
    "basket = [\"apple\", \"guava\", \"cherry\", \"banana\"]\n",
    "my_fruits = [\"apple\", \"kiwi\", \"cherry\"]\n",
    "\n",
    "a = list(filter(lambda x: x in my_fruits and x.startswith('a'), basket))\n",
    "print(a)"
   ]
  }
 ],
 "metadata": {
  "kernelspec": {
   "display_name": "Python 3",
   "language": "python",
   "name": "python3"
  },
  "language_info": {
   "codemirror_mode": {
    "name": "ipython",
    "version": 3
   },
   "file_extension": ".py",
   "mimetype": "text/x-python",
   "name": "python",
   "nbconvert_exporter": "python",
   "pygments_lexer": "ipython3",
   "version": "3.9.8"
  }
 },
 "nbformat": 4,
 "nbformat_minor": 5
}
