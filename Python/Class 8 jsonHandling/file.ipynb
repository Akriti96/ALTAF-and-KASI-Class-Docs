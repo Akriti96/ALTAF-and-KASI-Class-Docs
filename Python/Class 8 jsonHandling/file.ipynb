{
 "cells": [
  {
   "cell_type": "markdown",
   "id": "dd2a3d79",
   "metadata": {},
   "source": [
    "- JSON = JavaScript Object Notation\n",
    "- It’s a text format for structured data.\n",
    "- In Python, JSON looks very much like a dict/list."
   ]
  },
  {
   "cell_type": "markdown",
   "id": "164a6fb3",
   "metadata": {},
   "source": [
    "- dump, load -this methods for  file\n",
    "- dumps, loads -  these methods for string"
   ]
  },
  {
   "cell_type": "markdown",
   "id": "b584f422",
   "metadata": {},
   "source": [
    "- converting python object to json (serilization) -- we use dump, dumps\n",
    "- json string to python object (deserlization) --  we use load,loads"
   ]
  },
  {
   "cell_type": "code",
   "execution_count": 21,
   "id": "a4327606",
   "metadata": {},
   "outputs": [
    {
     "name": "stdout",
     "output_type": "stream",
     "text": [
      "{'name': 'Yamuna', 'role': 'instructor', 'skills': ['python', 'sql', 'json'], 'active': True}\n",
      "<class 'dict'>\n",
      "<class 'bool'>\n"
     ]
    }
   ],
   "source": [
    "# json object\n",
    "\n",
    "details='''{\n",
    "  \"name\": \"Yamuna\",\n",
    "  \"role\": \"instructor\",\n",
    "  \"skills\": [\n",
    "    \"python\",\n",
    "    \"sql\",\n",
    "    \"json\"\n",
    "  ],\n",
    "  \"active\": true\n",
    "}\n",
    "'''\n",
    "# json string to python (loads, load (files))\n",
    "# python object to json (dumps, dump(files))\n",
    "\n",
    "import json\n",
    "\n",
    "python_object= json.loads(details)\n",
    "print(python_object)\n",
    "print(type(python_object))\n",
    "\n",
    "print(type(python_object[\"active\"]))\n",
    "\n"
   ]
  },
  {
   "cell_type": "code",
   "execution_count": 26,
   "id": "45276819",
   "metadata": {},
   "outputs": [
    {
     "name": "stdout",
     "output_type": "stream",
     "text": [
      "{\n",
      "  \"name\": null,\n",
      "  \"role\": \"instructor\",\n",
      "  \"skills\": [\n",
      "    \"python\",\n",
      "    \"sql\",\n",
      "    \"json\"\n",
      "  ],\n",
      "  \"active\": true\n",
      "}\n",
      "<class 'str'>\n"
     ]
    }
   ],
   "source": [
    "import json\n",
    "# Python dict\n",
    "details = {\n",
    "    \"name\": None,\n",
    "    \"role\": \"instructor\",\n",
    "    \"skills\": [\"python\", \"sql\", \"json\"],\n",
    "    \"active\": True\n",
    "}\n",
    "\n",
    "# Convert Python -> JSON string\n",
    "json_object= json.dumps(details,indent=2)\n",
    "print(json_object)\n",
    "print(type(json_object))\n",
    "\n"
   ]
  },
  {
   "cell_type": "code",
   "execution_count": 29,
   "id": "0b85070f",
   "metadata": {},
   "outputs": [
    {
     "name": "stdout",
     "output_type": "stream",
     "text": [
      "{'name': 'Yamuna', 'role': 'instructor', 'skills': ['python', 'sql', 'json'], 'active': True}\n",
      "<class 'dict'>\n"
     ]
    }
   ],
   "source": [
    "# json file to python\n",
    "with open(\"profile.json\",\"r\") as f:\n",
    "    data= json.load(f)\n",
    "    print(data)\n",
    "    print(type(data))"
   ]
  },
  {
   "cell_type": "code",
   "execution_count": null,
   "id": "8d3abc55",
   "metadata": {},
   "outputs": [],
   "source": [
    "python_data =[\n",
    "  {\"p\": 1, \"name\": \"Alice\", \"marks\": 85},\n",
    "  {\"p\": 2, \"name\": \"Bob\", \"marks\": 90},\n",
    "  {\"p\": 3, \"name\": \"Charlie\", \"marks\": 78}\n",
    "]\n",
    "\n",
    "with open(\"newdata.json\",\"w\") as f:\n",
    "    data= json.dump(python_data, f,indent=4,sort_keys=True)\n"
   ]
  },
  {
   "cell_type": "markdown",
   "id": "1bbcaef7",
   "metadata": {},
   "source": [
    "- JSON supports only: dict, list, str, int, float, bool, None\n",
    "- Doesn’t support Python objects (like datetime, sets)."
   ]
  },
  {
   "cell_type": "code",
   "execution_count": 36,
   "id": "a3a17831",
   "metadata": {},
   "outputs": [],
   "source": [
    "from datetime import datetime\n",
    "date_data={\n",
    "    \"time\": datetime.now()\n",
    "}\n",
    "\n",
    "with open(\"dateData.json\",\"w\") as f:\n",
    "    try:\n",
    "     data= json.dump(date_data, f,indent=2,sort_keys=True,default=str)\n",
    "    except Exception as e:\n",
    "       print(e)\n",
    " \n"
   ]
  },
  {
   "cell_type": "code",
   "execution_count": 45,
   "id": "6dc88bda",
   "metadata": {},
   "outputs": [
    {
     "name": "stdout",
     "output_type": "stream",
     "text": [
      "85\n",
      "90\n",
      "78\n",
      "84.33333333333333\n"
     ]
    }
   ],
   "source": [
    " # Working with Lists of JSON Objects\n",
    "json_str = '''\n",
    "[\n",
    "  {\"id\": 1, \"name\": \"Alice\", \"marks\": 85},\n",
    "  {\"id\": 2, \"name\": \"Bob\", \"marks\": 90},\n",
    "  {\"id\": 3, \"name\": \"Charlie\", \"marks\": 78}\n",
    "]\n",
    "'''\n",
    "\n",
    "data= json.loads(json_str)\n",
    "# print(data)\n",
    "count=0\n",
    "avr=0\n",
    "for i in data:\n",
    "    print(i[\"marks\"])\n",
    "    count+= i[\"marks\"]\n",
    "    avr= count/len(data)\n",
    "\n",
    "print(avr)\n",
    "\n"
   ]
  },
  {
   "cell_type": "code",
   "execution_count": 61,
   "id": "46d8a943",
   "metadata": {},
   "outputs": [
    {
     "name": "stdout",
     "output_type": "stream",
     "text": [
      "[{'name': 'Alice', 'dept': {'id': 101, 'title': 'HR'}}, {'name': 'Bob', 'dept': {'id': 102, 'title': 'Engineering'}}]\n",
      "Engineering\n"
     ]
    }
   ],
   "source": [
    "# nested json\n",
    "json_str = '''\n",
    "{\n",
    "  \"company\": \"TechCorp\",\n",
    "  \"employees\": [\n",
    "    {\"name\": \"Alice\", \"dept\": {\"id\": 101, \"title\": \"HR\"}},\n",
    "    {\"name\": \"Bob\", \"dept\": {\"id\": 102, \"title\": \"Engineering\"}}\n",
    "  ]\n",
    "}\n",
    "'''\n",
    "em_name= input(\"enter the employee name: \").lower()\n",
    "data= json.loads(json_str)\n",
    "print(f\"{data['employees']}\")\n",
    "for i in data[\"employees\"]:\n",
    "    if em_name == i[\"name\"].lower():\n",
    "        print(i[\"dept\"][\"title\"])\n"
   ]
  },
  {
   "cell_type": "code",
   "execution_count": null,
   "id": "981f81f3",
   "metadata": {},
   "outputs": [],
   "source": [
    "# excerise \n",
    "# Convert JSON string → Python.\n",
    "\n",
    "# Print each student’s name and average marks.\n",
    "\n",
    "# Save it into class.json with pretty format.\n",
    "{\n",
    "  \"class\": \"Python101\",\n",
    "  \"students\": [\n",
    "    {\"name\": \"Anu\", \"marks\": [80, 85, 90]},\n",
    "    {\"name\": \"Raj\", \"marks\": [70, 75, 65]}\n",
    "  ]\n",
    "}\n"
   ]
  },
  {
   "cell_type": "code",
   "execution_count": 32,
   "id": "60281f70",
   "metadata": {},
   "outputs": [],
   "source": [
    "# What is JSONL? \n",
    "# File format: 1 JSON object per line\n",
    "# 5GB -- json- load enrire at time - memory crash\n",
    "# jsonl- load file and its treate each line as json object\n",
    "events = [\n",
    "    {\"id\": 1, \"event\": \"login\", \"user\": \"Yamuna\"},\n",
    "    {\"id\": 2, \"event\": \"click\", \"user\": \"Raj\"},\n",
    "    {\"id\": 3, \"event\": \"logout\", \"user\": \"Anu\"}  # 20000\n",
    "]\n",
    "with open(\"data.jsonl\",\"w\", encoding=\"utf-8\") as f:\n",
    "    for e in events:\n",
    "        f.write(json.dumps(e)+\"\\n\")"
   ]
  },
  {
   "cell_type": "code",
   "execution_count": 33,
   "id": "81e6f1b9",
   "metadata": {},
   "outputs": [
    {
     "name": "stdout",
     "output_type": "stream",
     "text": [
      "{'id': 1, 'event': 'login', 'user': 'Yamuna'}\n",
      "{'id': 2, 'event': 'click', 'user': 'Raj'}\n",
      "{'id': 3, 'event': 'logout', 'user': 'Anu'}\n"
     ]
    }
   ],
   "source": [
    "import json\n",
    "\n",
    "with open(\"data.jsonl\", \"r\", encoding=\"utf-8\") as f:\n",
    "    for line in f:\n",
    "        record = json.loads(line)  # convert JSON string -> Python dict\n",
    "        print(record)\n",
    "\n",
    "  \n",
    "    "
   ]
  },
  {
   "cell_type": "code",
   "execution_count": null,
   "id": "d1fd80bf",
   "metadata": {},
   "outputs": [],
   "source": [
    "import json\n",
    "\n",
    "students = [\n",
    "    {\"name\": \"Anu\", \"marks\": [80, 85, 90]},\n",
    "    {\"name\": \"Raj\", \"marks\": [70, 75, 65]},\n",
    "    {\"name\": \"Meena\", \"marks\": [88, 92, 95]}\n",
    "]\n"
   ]
  },
  {
   "cell_type": "code",
   "execution_count": 91,
   "id": "d73ec07a",
   "metadata": {},
   "outputs": [
    {
     "name": "stdout",
     "output_type": "stream",
     "text": [
      "{'latitude': 13.0, 'longitude': 77.625, 'generationtime_ms': 0.021219253540039062, 'utc_offset_seconds': 0, 'timezone': 'GMT', 'timezone_abbreviation': 'GMT', 'elevation': 914.0, 'hourly_units': {'time': 'iso8601', 'temperature_2m': '°C'}, 'hourly': {'time': ['2025-09-02T00:00', '2025-09-02T01:00', '2025-09-02T02:00', '2025-09-02T03:00', '2025-09-02T04:00', '2025-09-02T05:00', '2025-09-02T06:00', '2025-09-02T07:00', '2025-09-02T08:00', '2025-09-02T09:00', '2025-09-02T10:00', '2025-09-02T11:00', '2025-09-02T12:00', '2025-09-02T13:00', '2025-09-02T14:00', '2025-09-02T15:00', '2025-09-02T16:00', '2025-09-02T17:00', '2025-09-02T18:00', '2025-09-02T19:00', '2025-09-02T20:00', '2025-09-02T21:00', '2025-09-02T22:00', '2025-09-02T23:00', '2025-09-03T00:00', '2025-09-03T01:00', '2025-09-03T02:00', '2025-09-03T03:00', '2025-09-03T04:00', '2025-09-03T05:00', '2025-09-03T06:00', '2025-09-03T07:00', '2025-09-03T08:00', '2025-09-03T09:00', '2025-09-03T10:00', '2025-09-03T11:00', '2025-09-03T12:00', '2025-09-03T13:00', '2025-09-03T14:00', '2025-09-03T15:00', '2025-09-03T16:00', '2025-09-03T17:00', '2025-09-03T18:00', '2025-09-03T19:00', '2025-09-03T20:00', '2025-09-03T21:00', '2025-09-03T22:00', '2025-09-03T23:00', '2025-09-04T00:00', '2025-09-04T01:00', '2025-09-04T02:00', '2025-09-04T03:00', '2025-09-04T04:00', '2025-09-04T05:00', '2025-09-04T06:00', '2025-09-04T07:00', '2025-09-04T08:00', '2025-09-04T09:00', '2025-09-04T10:00', '2025-09-04T11:00', '2025-09-04T12:00', '2025-09-04T13:00', '2025-09-04T14:00', '2025-09-04T15:00', '2025-09-04T16:00', '2025-09-04T17:00', '2025-09-04T18:00', '2025-09-04T19:00', '2025-09-04T20:00', '2025-09-04T21:00', '2025-09-04T22:00', '2025-09-04T23:00', '2025-09-05T00:00', '2025-09-05T01:00', '2025-09-05T02:00', '2025-09-05T03:00', '2025-09-05T04:00', '2025-09-05T05:00', '2025-09-05T06:00', '2025-09-05T07:00', '2025-09-05T08:00', '2025-09-05T09:00', '2025-09-05T10:00', '2025-09-05T11:00', '2025-09-05T12:00', '2025-09-05T13:00', '2025-09-05T14:00', '2025-09-05T15:00', '2025-09-05T16:00', '2025-09-05T17:00', '2025-09-05T18:00', '2025-09-05T19:00', '2025-09-05T20:00', '2025-09-05T21:00', '2025-09-05T22:00', '2025-09-05T23:00', '2025-09-06T00:00', '2025-09-06T01:00', '2025-09-06T02:00', '2025-09-06T03:00', '2025-09-06T04:00', '2025-09-06T05:00', '2025-09-06T06:00', '2025-09-06T07:00', '2025-09-06T08:00', '2025-09-06T09:00', '2025-09-06T10:00', '2025-09-06T11:00', '2025-09-06T12:00', '2025-09-06T13:00', '2025-09-06T14:00', '2025-09-06T15:00', '2025-09-06T16:00', '2025-09-06T17:00', '2025-09-06T18:00', '2025-09-06T19:00', '2025-09-06T20:00', '2025-09-06T21:00', '2025-09-06T22:00', '2025-09-06T23:00', '2025-09-07T00:00', '2025-09-07T01:00', '2025-09-07T02:00', '2025-09-07T03:00', '2025-09-07T04:00', '2025-09-07T05:00', '2025-09-07T06:00', '2025-09-07T07:00', '2025-09-07T08:00', '2025-09-07T09:00', '2025-09-07T10:00', '2025-09-07T11:00', '2025-09-07T12:00', '2025-09-07T13:00', '2025-09-07T14:00', '2025-09-07T15:00', '2025-09-07T16:00', '2025-09-07T17:00', '2025-09-07T18:00', '2025-09-07T19:00', '2025-09-07T20:00', '2025-09-07T21:00', '2025-09-07T22:00', '2025-09-07T23:00', '2025-09-08T00:00', '2025-09-08T01:00', '2025-09-08T02:00', '2025-09-08T03:00', '2025-09-08T04:00', '2025-09-08T05:00', '2025-09-08T06:00', '2025-09-08T07:00', '2025-09-08T08:00', '2025-09-08T09:00', '2025-09-08T10:00', '2025-09-08T11:00', '2025-09-08T12:00', '2025-09-08T13:00', '2025-09-08T14:00', '2025-09-08T15:00', '2025-09-08T16:00', '2025-09-08T17:00', '2025-09-08T18:00', '2025-09-08T19:00', '2025-09-08T20:00', '2025-09-08T21:00', '2025-09-08T22:00', '2025-09-08T23:00'], 'temperature_2m': [19.8, 19.8, 20.3, 21.3, 22.8, 24.1, 25.1, 26.1, 26.4, 26.7, 26.1, 24.7, 24.1, 23.2, 22.4, 22.2, 21.7, 21.1, 20.8, 20.5, 20.3, 20.0, 19.8, 19.8, 19.7, 19.7, 20.1, 21.0, 22.6, 23.7, 25.1, 26.2, 26.5, 26.1, 26.0, 25.1, 24.3, 23.2, 22.6, 22.1, 21.9, 21.3, 20.7, 20.3, 20.0, 19.9, 19.8, 19.7, 19.6, 19.6, 20.1, 21.5, 23.0, 24.2, 25.2, 26.6, 27.3, 27.1, 26.5, 26.4, 26.1, 25.0, 23.9, 23.3, 22.8, 22.4, 21.7, 21.1, 20.6, 20.3, 20.2, 20.0, 20.0, 19.9, 20.5, 22.0, 23.8, 25.4, 26.6, 27.5, 28.3, 27.8, 27.8, 27.3, 26.2, 25.4, 24.6, 23.8, 23.2, 22.7, 22.3, 21.9, 21.5, 21.2, 20.9, 20.6, 20.6, 20.8, 21.3, 22.1, 23.6, 25.4, 26.9, 27.9, 28.7, 29.0, 28.7, 28.0, 27.1, 26.0, 24.7, 23.7, 23.1, 22.9, 22.6, 22.1, 21.7, 21.3, 20.9, 20.7, 20.6, 20.8, 21.2, 22.0, 23.4, 25.2, 26.5, 27.3, 28.0, 28.3, 28.3, 28.1, 27.6, 26.9, 26.1, 25.2, 24.3, 23.4, 22.6, 22.0, 21.6, 21.2, 20.8, 20.4, 20.3, 20.5, 20.9, 21.7, 23.0, 24.6, 26.1, 27.2, 28.0, 28.5, 28.4, 27.8, 27.1, 26.2, 25.2, 24.3, 23.6, 23.1, 22.6, 22.1, 21.5, 21.1, 20.7, 20.4]}}\n",
      "[19.8, 19.8, 20.3, 21.3, 22.8, 24.1, 25.1, 26.1, 26.4, 26.7, 26.1, 24.7, 24.1, 23.2, 22.4, 22.2, 21.7, 21.1, 20.8, 20.5, 20.3, 20.0, 19.8, 19.8, 19.7, 19.7, 20.1, 21.0, 22.6, 23.7, 25.1, 26.2, 26.5, 26.1, 26.0, 25.1, 24.3, 23.2, 22.6, 22.1, 21.9, 21.3, 20.7, 20.3, 20.0, 19.9, 19.8, 19.7, 19.6, 19.6, 20.1, 21.5, 23.0, 24.2, 25.2, 26.6, 27.3, 27.1, 26.5, 26.4, 26.1, 25.0, 23.9, 23.3, 22.8, 22.4, 21.7, 21.1, 20.6, 20.3, 20.2, 20.0, 20.0, 19.9, 20.5, 22.0, 23.8, 25.4, 26.6, 27.5, 28.3, 27.8, 27.8, 27.3, 26.2, 25.4, 24.6, 23.8, 23.2, 22.7, 22.3, 21.9, 21.5, 21.2, 20.9, 20.6, 20.6, 20.8, 21.3, 22.1, 23.6, 25.4, 26.9, 27.9, 28.7, 29.0, 28.7, 28.0, 27.1, 26.0, 24.7, 23.7, 23.1, 22.9, 22.6, 22.1, 21.7, 21.3, 20.9, 20.7, 20.6, 20.8, 21.2, 22.0, 23.4, 25.2, 26.5, 27.3, 28.0, 28.3, 28.3, 28.1, 27.6, 26.9, 26.1, 25.2, 24.3, 23.4, 22.6, 22.0, 21.6, 21.2, 20.8, 20.4, 20.3, 20.5, 20.9, 21.7, 23.0, 24.6, 26.1, 27.2, 28.0, 28.5, 28.4, 27.8, 27.1, 26.2, 25.2, 24.3, 23.6, 23.1, 22.6, 22.1, 21.5, 21.1, 20.7, 20.4]\n",
      "<class 'dict'>\n",
      "168\n",
      "23.445833333333322\n"
     ]
    }
   ],
   "source": [
    "# API https://api.open-meteo.com/v1/forecast?latitude=12.97&longitude=77.59&hourly=temperature_2m\n",
    "\n",
    "import json\n",
    "from urllib.request import urlopen\n",
    "url='https://api.open-meteo.com/v1/forecast?latitude=12.97&longitude=77.59&hourly=temperature_2m'\n",
    "with urlopen(url) as response:\n",
    "    data= json.load(response)\n",
    "\n",
    "    print(data)    \n",
    "# extract hourly temparture data\n",
    "hourly_temp= data['hourly']['temperature_2m']\n",
    "hourly_time= data['hourly']['time']\n",
    "print(hourly_temp)\n",
    "\n",
    "# time-> temp dict= {time(key):temp(value)}\n",
    "\n",
    "# zip\n",
    "weather= dict(zip(hourly_time,hourly_temp))\n",
    "print(type(weather))\n",
    "print(len(weather))\n",
    "\n",
    "# avr_temp=0\n",
    "# # average tempture\n",
    "total=0\n",
    "avrg=0\n",
    "for i, j in weather.items():\n",
    "    # print(type(j))\n",
    "    total+=j\n",
    "    avrg= total/len(weather)\n",
    "print(avrg)"
   ]
  },
  {
   "cell_type": "code",
   "execution_count": 3,
   "id": "04b5c664",
   "metadata": {},
   "outputs": [
    {
     "name": "stdout",
     "output_type": "stream",
     "text": [
      "1590A\n",
      "libdc-for-dirk\n",
      "libgit2\n",
      "linux\n",
      "pesconvert\n",
      "subsurface-for-dirk\n",
      "test-tlb\n",
      "uemacs\n",
      "[{'1590A': 409}, {'libdc-for-dirk': 275}, {'libgit2': 214}, {'linux': 201640}, {'pesconvert': 446}, {'subsurface-for-dirk': 339}, {'test-tlb': 810}, {'uemacs': 1560}]\n"
     ]
    }
   ],
   "source": [
    "# https://api.github.com/users/torvalds/repos Linux creator\n",
    "# get all the name of user in reposne repo- store in list\n",
    "\n",
    "import json\n",
    "from urllib.request import urlopen\n",
    "url='https://api.github.com/users/torvalds/repos'\n",
    "with urlopen(url) as response:\n",
    "    data= json.load(response)\n",
    "    # print(data)\n",
    "user_name=[]\n",
    "for i in data:\n",
    "   print(i[\"name\"])\n",
    "   user_name.append({i[\"name\"]:i[\"watchers\"]})\n",
    "print(user_name)\n",
    "# dict\n",
    "\n",
    "\n"
   ]
  }
 ],
 "metadata": {
  "kernelspec": {
   "display_name": "Python 3",
   "language": "python",
   "name": "python3"
  },
  "language_info": {
   "codemirror_mode": {
    "name": "ipython",
    "version": 3
   },
   "file_extension": ".py",
   "mimetype": "text/x-python",
   "name": "python",
   "nbconvert_exporter": "python",
   "pygments_lexer": "ipython3",
   "version": "3.9.8"
  }
 },
 "nbformat": 4,
 "nbformat_minor": 5
}
