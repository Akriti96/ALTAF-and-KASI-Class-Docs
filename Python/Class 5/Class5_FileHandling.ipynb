{
 "cells": [
  {
   "cell_type": "markdown",
   "id": "c8d62958",
   "metadata": {},
   "source": [
    "### Some Theory\n",
    "\n",
    "##### Types of data used for I/O:\n",
    "- Text - '12345' as a sequence of unicode chars\n",
    "- Binary - 12345 as a sequence of bytes of its binary equivalent\n",
    "\n",
    "##### Hence there are 2 file types to deal with\n",
    "- Text files - All program files are text files\n",
    "- Binary Files - Images,music,video,exe \n",
    "\n",
    "### How File I/O is done in most programming languages\n",
    "\n",
    "- Open a file\n",
    "- Read/Write data\n",
    "- Close the file"
   ]
  },
  {
   "cell_type": "markdown",
   "id": "0772c43f",
   "metadata": {},
   "source": [
    "| Mode    | Description                     | File Created If Not Exists? | Overwrites? | Reads? | Writes? | Appends? | Type   |\n",
    "| ------- | ------------------------------- | --------------------------- | ----------- | ------ | ------- | -------- | ------ |\n",
    "| `'r'`   | Read only (default)             | ❌ No                        | ❌ No        | ✅ Yes  | ❌ No    | ❌ No     | Text   |\n",
    "| `'w'`   | Write only (truncate first)     | ✅ Yes                       | ✅ Yes       | ❌ No   | ✅ Yes   | ❌ No     | Text   |\n",
    "| `'a'`   | Append only                     | ✅ Yes                       | ❌ No        | ❌ No   | ✅ Yes   | ✅ Yes    | Text   |\n",
    "| `'r+'`  | Read + Write (no truncate)      | ❌ No                        | ❌ No        | ✅ Yes  | ✅ Yes   | ❌ No     | Text   |\n",
    "| `'w+'`  | Read + Write (truncate)         | ✅ Yes                       | ✅ Yes       | ✅ Yes  | ✅ Yes   | ❌ No     | Text   |\n",
    "| `'a+'`  | Read + Append                   | ✅ Yes                       | ❌ No        | ✅ Yes  | ✅ Yes   | ✅ Yes    | Text   |\n",
    "| `'rb'`  | Read only (binary)              | ❌ No                        | ❌ No        | ✅ Yes  | ❌ No    | ❌ No     | Binary |\n",
    "| `'wb'`  | Write only (truncate, binary)   | ✅ Yes                       | ✅ Yes       | ❌ No   | ✅ Yes   | ❌ No     | Binary |\n",
    "| `'ab'`  | Append only (binary)            | ✅ Yes                       | ❌ No        | ❌ No   | ✅ Yes   | ✅ Yes    | Binary |\n",
    "| `'rb+'` | Read + Write (binary)           | ❌ No                        | ❌ No        | ✅ Yes  | ✅ Yes   | ❌ No     | Binary |\n",
    "| `'wb+'` | Read + Write (truncate, binary) | ✅ Yes                       | ✅ Yes       | ✅ Yes  | ✅ Yes   | ❌ No     | Binary |\n",
    "| `'ab+'` | Read + Append (binary)          | ✅ Yes                       | ❌ No        | ✅ Yes  | ✅ Yes   | ✅ Yes    | Binary |\n"
   ]
  },
  {
   "cell_type": "code",
   "execution_count": 39,
   "id": "d82c442e",
   "metadata": {},
   "outputs": [],
   "source": [
    "f= open(\"test1.txt\",\"a\")\n",
    "f.write(\"hello2, hello3\")\n",
    "f.close()\n"
   ]
  },
  {
   "cell_type": "code",
   "execution_count": 40,
   "id": "15c6fba6",
   "metadata": {},
   "outputs": [
    {
     "name": "stdout",
     "output_type": "stream",
     "text": [
      "['10\\n', 'hello 10\\n', '10hello2, hello3']\n"
     ]
    }
   ],
   "source": [
    "f= open(\"test1.txt\",\"r\")\n",
    "print(f.readlines() ) # list\n",
    "\n",
    "f.close()"
   ]
  },
  {
   "cell_type": "code",
   "execution_count": 41,
   "id": "9cc04439",
   "metadata": {},
   "outputs": [
    {
     "name": "stdout",
     "output_type": "stream",
     "text": [
      "10\n",
      "\n"
     ]
    }
   ],
   "source": [
    "f= open(\"test1.txt\",\"r\")\n",
    "print(f.readline())  # list\n",
    "f.close()"
   ]
  },
  {
   "cell_type": "code",
   "execution_count": 42,
   "id": "b6c5b8f7",
   "metadata": {},
   "outputs": [
    {
     "ename": "ValueError",
     "evalue": "I/O operation on closed file.",
     "output_type": "error",
     "traceback": [
      "\u001b[1;31m---------------------------------------------------------------------------\u001b[0m",
      "\u001b[1;31mValueError\u001b[0m                                Traceback (most recent call last)",
      "Cell \u001b[1;32mIn[42], line 1\u001b[0m\n\u001b[1;32m----> 1\u001b[0m \u001b[43mf\u001b[49m\u001b[38;5;241;43m.\u001b[39;49m\u001b[43mreadline\u001b[49m\u001b[43m(\u001b[49m\u001b[43m)\u001b[49m\n",
      "\u001b[1;31mValueError\u001b[0m: I/O operation on closed file."
     ]
    }
   ],
   "source": [
    "f.readline()"
   ]
  },
  {
   "cell_type": "code",
   "execution_count": null,
   "id": "aad2614c",
   "metadata": {},
   "outputs": [
    {
     "data": {
      "text/plain": [
       "'what\\n'"
      ]
     },
     "execution_count": 16,
     "metadata": {},
     "output_type": "execute_result"
    }
   ],
   "source": [
    "f.readline()"
   ]
  },
  {
   "cell_type": "code",
   "execution_count": null,
   "id": "1c5a1d1c",
   "metadata": {},
   "outputs": [
    {
     "data": {
      "text/plain": [
       "['why']"
      ]
     },
     "execution_count": 17,
     "metadata": {},
     "output_type": "execute_result"
    }
   ],
   "source": [
    "f.readlines()"
   ]
  },
  {
   "cell_type": "code",
   "execution_count": null,
   "id": "7ae108f4",
   "metadata": {},
   "outputs": [],
   "source": [
    "f.close()"
   ]
  },
  {
   "cell_type": "code",
   "execution_count": null,
   "id": "fc2571d0",
   "metadata": {},
   "outputs": [
    {
     "ename": "ValueError",
     "evalue": "I/O operation on closed file.",
     "output_type": "error",
     "traceback": [
      "\u001b[1;31m---------------------------------------------------------------------------\u001b[0m",
      "\u001b[1;31mValueError\u001b[0m                                Traceback (most recent call last)",
      "Cell \u001b[1;32mIn[19], line 1\u001b[0m\n\u001b[1;32m----> 1\u001b[0m \u001b[43mf\u001b[49m\u001b[38;5;241;43m.\u001b[39;49m\u001b[43mreadline\u001b[49m\u001b[43m(\u001b[49m\u001b[43m)\u001b[49m\n",
      "\u001b[1;31mValueError\u001b[0m: I/O operation on closed file."
     ]
    }
   ],
   "source": [
    "f.readline()"
   ]
  },
  {
   "cell_type": "code",
   "execution_count": null,
   "id": "d2fab621",
   "metadata": {},
   "outputs": [],
   "source": [
    "f.close()"
   ]
  },
  {
   "cell_type": "code",
   "execution_count": null,
   "id": "b2e1570c",
   "metadata": {},
   "outputs": [
    {
     "name": "stdout",
     "output_type": "stream",
     "text": [
      "['hello, how are you?\\n', 'hii\\n', 'what\\n', 'why']\n"
     ]
    }
   ],
   "source": [
    "f= open(\"test1.txt\",\"r\") \n",
    "print(f.readlines())\n",
    "\n",
    "# for i in f:\n",
    "#     print(i,end=\" \")\n",
    "    \n",
    "f.close()"
   ]
  },
  {
   "cell_type": "code",
   "execution_count": null,
   "id": "1c8f34a7",
   "metadata": {},
   "outputs": [],
   "source": [
    "dict={\n",
    "    \"name\":\"ruhan\",\n",
    "    \"age\":32\n",
    "}\n",
    "f= open(\"test2.txt\",\"w\")\n",
    "f.write(str(dict))\n",
    "f.close()"
   ]
  },
  {
   "cell_type": "code",
   "execution_count": null,
   "id": "33378ae5",
   "metadata": {},
   "outputs": [
    {
     "name": "stdout",
     "output_type": "stream",
     "text": [
      "<class 'str'>\n"
     ]
    }
   ],
   "source": [
    "f=open(\"test2.txt\",\"r\")\n",
    "print(type(f.read()))"
   ]
  },
  {
   "cell_type": "code",
   "execution_count": null,
   "id": "35dcddce",
   "metadata": {},
   "outputs": [
    {
     "name": "stdout",
     "output_type": "stream",
     "text": [
      "False\n",
      "True\n"
     ]
    }
   ],
   "source": [
    "f= open(\"test1.txt\",\"r\")\n",
    "f.read()\n",
    "print(f.closed)\n",
    "f.close()\n",
    "print(f.closed)"
   ]
  },
  {
   "cell_type": "code",
   "execution_count": null,
   "id": "56907fa0",
   "metadata": {},
   "outputs": [],
   "source": [
    "with open(\"spaceshooter.png\",\"rb\") as a:\n",
    "  with open(\"copy-space.png\",\"wb\") as b:\n",
    "    b.write(a.read())\n"
   ]
  },
  {
   "cell_type": "markdown",
   "id": "854ab08c",
   "metadata": {},
   "source": [
    "### Using Context Manager (With)\n",
    "\n",
    "- It's a good idea to close a file after usage as it will free up the resources\n",
    "- If we dont close it, garbage collector would close it\n",
    "- with keyword closes the file as soon as the usage is over\n",
    "\n",
    "### Why its important to close the file\n",
    "- If Many files remained unclosed, your program could hit the system file handle limit(To many open files error)\n",
    "- When writting a file, the data may be buffered (held in memory)\n",
    "- On some systems (like Windows), an unclosed file may stay locked and inaccessible to other programs until your script ends.\n",
    "- It may close the file later than expected, causing intermittent bugs that are hard to debug."
   ]
  },
  {
   "cell_type": "markdown",
   "id": "4bc5c403",
   "metadata": {},
   "source": [
    "| File Type    | Example        | Mode   | Module Needed?         |\n",
    "| ------------ | -------------- | ------ | ---------------------- |\n",
    "| Plain Text   | `.txt`         | `\"r\"`  | No                     |\n",
    "| CSV          | `.csv`         | `\"r\"`  | `csv` (optional)       |\n",
    "| JSON         | `.json`        | `\"r\"`  | `json`                 |\n",
    "| Binary Image | `.jpg`, `.png` | `\"rb\"` | No                     |\n",
    "| PDF          | `.pdf`         | `\"rb\"` | `PyPDF2` (for parsing) |\n",
    "| Pickle       | `.pkl`         | `\"rb\"` | `pickle`               |\n",
    "| Zip          | `.zip`         | `\"r\"`  | `zipfile`              |\n",
    "| Gzip         | `.gz`          | `\"rt\"` | `gzip`                 |\n"
   ]
  },
  {
   "cell_type": "code",
   "execution_count": null,
   "id": "be2f34b3",
   "metadata": {},
   "outputs": [],
   "source": [
    "list1=[\"HTML\",\"CSS\",\"PHP\",\"Sql\"]\n",
    "path=r'D:\\MY CLASSES\\STUDENTS\\Amir and Kasi\\folder\\list.txt'\n",
    "\n",
    "with open(path,\"w+\") as f:\n",
    "    f.write(str(list1))\n"
   ]
  },
  {
   "cell_type": "markdown",
   "id": "6b280475",
   "metadata": {},
   "source": [
    "## seek(offset, whence)\n",
    "- Moves the file pointer to a specific position\n",
    "Parameters:\n",
    "    - offset: number of bytes to move.\n",
    "    - whence: optional (default is 0)\n",
    "        - 0 → from start of file\n",
    "        - 1 → from current position\n",
    "        - 2 → from end of file\n",
    "## tell()\n",
    "- Returns the current position of the file pointer (in bytes)."
   ]
  },
  {
   "cell_type": "code",
   "execution_count": null,
   "id": "53cf6639",
   "metadata": {},
   "outputs": [
    {
     "name": "stdout",
     "output_type": "stream",
     "text": [
      "10\n",
      " are you?\n",
      "hii\n",
      "what\n",
      "why\n"
     ]
    }
   ],
   "source": [
    "# seek and tell function\n",
    "with open(\"test1.txt\",\"r\") as f:\n",
    "    f.seek(10)\n",
    "    print(f.tell())\n",
    "    print(f.read())"
   ]
  },
  {
   "cell_type": "code",
   "execution_count": null,
   "id": "373cb889",
   "metadata": {},
   "outputs": [],
   "source": [
    "# Binary file reading\n"
   ]
  },
  {
   "cell_type": "code",
   "execution_count": null,
   "id": "1f53087d",
   "metadata": {},
   "outputs": [
    {
     "name": "stdout",
     "output_type": "stream",
     "text": [
      "['hello how are you', '']\n",
      "['hii', '']\n",
      "['what', '']\n",
      "['why']\n"
     ]
    }
   ],
   "source": [
    "# to count the number of words in a file  r D:\\MY CLASSES\\STUDENTS\\Amir and Kasi\\Task2.py  -unicode error (no permision)\n",
    "fname= input(r\"Enter the file name: \")\n",
    "n_words=0\n",
    "\n",
    "with open(fname,\"r\") as f:\n",
    "    for i in f:\n",
    "        w= i.split('\\n')\n",
    "        print(w)\n",
    "\n",
    "\n",
    "\n",
    "\n",
    "      "
   ]
  },
  {
   "cell_type": "code",
   "execution_count": null,
   "id": "e1bb8258",
   "metadata": {},
   "outputs": [
    {
     "name": "stdout",
     "output_type": "stream",
     "text": [
      "['hello how are you\\n', 'hii\\n', 'what\\n', 'why']\n",
      "hello how are you\n",
      "\n",
      "hii\n",
      "\n",
      "what\n",
      "\n",
      "why\n",
      "30\n"
     ]
    }
   ],
   "source": [
    "fname=r'test1.txt'\n",
    "words=0\n",
    "with open(fname,\"r\") as f:\n",
    "    a= f.readlines()\n",
    "        print(i)\n",
    "        words+=len(i)\n",
    "        \n",
    "print(words)\n",
    "\n",
    "# fix this\n"
   ]
  },
  {
   "cell_type": "code",
   "execution_count": null,
   "id": "53dc2b0a",
   "metadata": {},
   "outputs": [
    {
     "name": "stdout",
     "output_type": "stream",
     "text": [
      "['hello how are you', '\\n']\n",
      "['hii\\n']\n",
      "['what', '\\n']\n",
      "['why']\n",
      "6\n"
     ]
    }
   ],
   "source": [
    "word_no=0\n",
    "with open(\"test1.txt\") as f:\n",
    "    for line in f:\n",
    "        words= line.split(\"?\")\n",
    "        print(words)\n",
    "        \n",
    "        word_no+=len(words)\n",
    "print(word_no)\n"
   ]
  },
  {
   "cell_type": "code",
   "execution_count": null,
   "id": "80e0d1e6",
   "metadata": {},
   "outputs": [
    {
     "name": "stdout",
     "output_type": "stream",
     "text": [
      "4\n"
     ]
    }
   ],
   "source": [
    "# count number of lines\n",
    "word=0\n",
    "f= open(\"test1.txt\",\"r\")\n",
    "for i in f:\n",
    "    word+=1\n",
    "print(word)\n"
   ]
  },
  {
   "cell_type": "code",
   "execution_count": 61,
   "id": "3a029035",
   "metadata": {},
   "outputs": [
    {
     "name": "stdout",
     "output_type": "stream",
     "text": [
      "4\n"
     ]
    }
   ],
   "source": [
    "# check how many numeric number present in a file  hint i. isdigit()\n",
    "\n",
    "# with split\n",
    "'''f= open(\"test1.txt\",\"r\")\n",
    "no=0\n",
    "for i in f:\n",
    "    w=i.split()\n",
    "    print(w)\n",
    "    for j in w:\n",
    "        if j.isdigit():\n",
    "            no+=1\n",
    "print(no)\n",
    "print('\\n\\n')\n",
    "'''\n",
    "# with f method\n",
    "'''no = 0\n",
    "\n",
    "with open('test1.txt', 'r') as f:\n",
    "    for line in f:\n",
    "        w= line.split()\n",
    "        for j in w:\n",
    "            if j.isdigit():\n",
    "                print(f\"{True} {j}\")\n",
    "                no+=1\n",
    "        print(no)\n",
    "'''\n",
    "no=0\n",
    "# with f method using readlines\n",
    "with open('test1.txt','r') as f:\n",
    "    l= f.readlines()\n",
    "    for i in l:\n",
    "        word=''\n",
    "        for ch in i:\n",
    "            if ch.isalnum():\n",
    "                word+=ch\n",
    "            else:\n",
    "                if word.isdigit():\n",
    "                    no += 1\n",
    "                word=''\n",
    "        if word.isdigit():\n",
    "            no += 1\n",
    "    print(no)"
   ]
  },
  {
   "cell_type": "code",
   "execution_count": null,
   "id": "38a2e5e7",
   "metadata": {},
   "outputs": [
    {
     "name": "stdout",
     "output_type": "stream",
     "text": [
      "True\n"
     ]
    }
   ],
   "source": [
    "# Write a Program to count the Occurance of a word in a Text file\n"
   ]
  },
  {
   "cell_type": "code",
   "execution_count": null,
   "id": "799840fd",
   "metadata": {},
   "outputs": [],
   "source": [
    "# Write a program to count the number of blank spaces in a Text file. Hint: isspace "
   ]
  },
  {
   "cell_type": "code",
   "execution_count": null,
   "id": "0b8e2327",
   "metadata": {},
   "outputs": [],
   "source": [
    "# Write a program to read a file and Capitalise the first letter of every word in the file"
   ]
  },
  {
   "cell_type": "code",
   "execution_count": null,
   "id": "cfc0e481",
   "metadata": {},
   "outputs": [],
   "source": [
    "# Problem: You have a log.txt file. Extract and save all lines that contain the word \"ERROR\"."
   ]
  },
  {
   "cell_type": "code",
   "execution_count": null,
   "id": "8de177d9",
   "metadata": {},
   "outputs": [],
   "source": [
    "# Problem: Clean a file sensor_data.txt by removing empty lines and lines that start with # (comments)."
   ]
  },
  {
   "cell_type": "code",
   "execution_count": null,
   "id": "58f171cd",
   "metadata": {},
   "outputs": [],
   "source": [
    "# Problem: write a function that Counts how many times a specific word (e.g., “python”) appears in a .txt document."
   ]
  },
  {
   "cell_type": "code",
   "execution_count": null,
   "id": "726dbf06",
   "metadata": {},
   "outputs": [],
   "source": [
    "#  Use Case: Content indexing, SEO analysis, or keyword tracking."
   ]
  },
  {
   "cell_type": "code",
   "execution_count": null,
   "id": "e1a4c9a8",
   "metadata": {},
   "outputs": [],
   "source": [
    "#  [File Monitor] Detect Duplicate Lines in a Text File\n",
    "# Problem: Detect and list duplicate lines in a file."
   ]
  }
 ],
 "metadata": {
  "kernelspec": {
   "display_name": "Python 3",
   "language": "python",
   "name": "python3"
  },
  "language_info": {
   "codemirror_mode": {
    "name": "ipython",
    "version": 3
   },
   "file_extension": ".py",
   "mimetype": "text/x-python",
   "name": "python",
   "nbconvert_exporter": "python",
   "pygments_lexer": "ipython3",
   "version": "3.9.8"
  }
 },
 "nbformat": 4,
 "nbformat_minor": 5
}
