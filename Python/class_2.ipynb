{
 "cells": [
  {
   "cell_type": "code",
   "execution_count": 13,
   "id": "127e0b96",
   "metadata": {},
   "outputs": [
    {
     "name": "stdout",
     "output_type": "stream",
     "text": [
      "even\n",
      "odd\n",
      "even\n",
      "odd\n",
      "even\n",
      "odd\n",
      "even\n",
      "odd\n",
      "even\n",
      "odd\n"
     ]
    }
   ],
   "source": [
    "# Create a function \n",
    "def  check_even(num):  \n",
    "    if num%2 ==0:  \n",
    "        return \"even\"  \n",
    "    else:  \n",
    "        return \"odd\"\n",
    "\n",
    "# Call a function \n",
    "for i in range(10): \n",
    "    x= check_even(i) \n",
    "    print(x) "
   ]
  },
  {
   "cell_type": "markdown",
   "id": "80dd6a04",
   "metadata": {},
   "source": [
    "Types of Arguments: "
   ]
  },
  {
   "cell_type": "code",
   "execution_count": 14,
   "id": "a8817545",
   "metadata": {},
   "outputs": [
    {
     "name": "stdout",
     "output_type": "stream",
     "text": [
      "Hello Bob, you are 18 years old.\n",
      "Hello Charlie, you are 30 years old.\n"
     ]
    }
   ],
   "source": [
    "\"\"\"1. Default argument \n",
    "You give a default value to a parameter in the function definition. \n",
    "If the caller doesn’t provide the age, it will use the default value (18). \"\"\"\n",
    "def greet(name, age=18): \n",
    "    print(f\"Hello {name}, you are {age} years old.\") \n",
    "\n",
    "greet(\"Bob\")       # Uses default age = 18 \n",
    "greet(\"Charlie\", 30)  # Overrides default and uses age = 30 "
   ]
  },
  {
   "cell_type": "code",
   "execution_count": 15,
   "id": "32944389",
   "metadata": {},
   "outputs": [
    {
     "name": "stdout",
     "output_type": "stream",
     "text": [
      "Hello Alice, you are 25 years old.\n"
     ]
    }
   ],
   "source": [
    "\"\"\"2.Positional argument \n",
    "You pass values in order of the parameters. \"\"\"\n",
    "\n",
    "def greet(name, age): \n",
    "    print(f\"Hello {name}, you are {age} years old.\") \n",
    "\n",
    "greet(\"Alice\", 25)  # Positional: name = \"Alice\", age = 25 \n",
    "# Here, \"Alice\" goes to name and 25 to age based on position. "
   ]
  },
  {
   "cell_type": "code",
   "execution_count": 16,
   "id": "50d84da0",
   "metadata": {},
   "outputs": [
    {
     "name": "stdout",
     "output_type": "stream",
     "text": [
      "Hello Alice, you are 25 years old.\n"
     ]
    }
   ],
   "source": [
    "\"\"\"Keyword argument \n",
    "You pass values with the parameter names, so order doesn't matter. \n",
    "You mention which value goes to which parameter using name=value format. \"\"\"\n",
    "\n",
    "greet(age=25, name=\"Alice\")  # Keyword: age = 25, name = \"Alice\" "
   ]
  },
  {
   "cell_type": "markdown",
   "id": "ade9c81a",
   "metadata": {},
   "source": [
    "*args and  **kwargs-  are special Python keywords that are used to pass the variable length of arguments to a function \n",
    "*args:   allows us to pass a variable number of non-keyword arguments to a function. "
   ]
  },
  {
   "cell_type": "code",
   "execution_count": 17,
   "id": "24424070",
   "metadata": {},
   "outputs": [
    {
     "name": "stdout",
     "output_type": "stream",
     "text": [
      "(1, 2, 3, 4, 5, 6, 7, 8, 9, 10, 12)\n"
     ]
    },
    {
     "data": {
      "text/plain": [
       "43545600"
      ]
     },
     "execution_count": 17,
     "metadata": {},
     "output_type": "execute_result"
    }
   ],
   "source": [
    "def multiply(*args): \n",
    "  product = 1 \n",
    "  for i in args: \n",
    "    product = product * i \n",
    "  print(args) \n",
    "  return product \n",
    "\n",
    "multiply(1,2,3,4,5,6,7,8,9,10,12) "
   ]
  },
  {
   "cell_type": "markdown",
   "id": "c5e141b0",
   "metadata": {},
   "source": [
    "**kwargs allows us to pass any number of keyword arguments. \n",
    "Keyword arguments mean that they contain a key-value pair, like a Python dictionary. "
   ]
  },
  {
   "cell_type": "code",
   "execution_count": 18,
   "id": "4635ba57",
   "metadata": {},
   "outputs": [
    {
     "name": "stdout",
     "output_type": "stream",
     "text": [
      "india -> delhi\n",
      "srilanka -> colombo\n",
      "nepal -> kathmandu\n",
      "pakistan -> islamabad\n"
     ]
    }
   ],
   "source": [
    "def display(**salman): \n",
    "  for (key,value) in salman.items(): \n",
    "    print(key,'->',value) \n",
    "display(india='delhi',srilanka='colombo',nepal='kathmandu',pakistan='islamabad') "
   ]
  },
  {
   "cell_type": "markdown",
   "id": "0244114c",
   "metadata": {},
   "source": [
    "Points to remember while using *args and **kwargs \n",
    "order of the arguments matter(normal -> *args -> **kwargs) \n",
    "The words “args” and “kwargs” are only a convention, you can use any name of your choice "
   ]
  },
  {
   "cell_type": "markdown",
   "id": "18c5201c",
   "metadata": {},
   "source": [
    "Scope of variables\n",
    "1. Local variables\n",
    "2. Global variables\n"
   ]
  },
  {
   "cell_type": "code",
   "execution_count": 22,
   "id": "0d1ff8ed",
   "metadata": {},
   "outputs": [
    {
     "name": "stdout",
     "output_type": "stream",
     "text": [
      "a is:  140\n"
     ]
    }
   ],
   "source": [
    "# Local variable\n",
    "def add(n1=0,n2=0):\n",
    "    total=0\n",
    "    total=n1+n2\n",
    "    return total\n",
    "# add(10,30)\n",
    "a= total+100\n",
    "print(\"a is: \",a)  # here total is local variable we can access only inside the specific functions\n"
   ]
  },
  {
   "cell_type": "code",
   "execution_count": 20,
   "id": "fbe474fb",
   "metadata": {},
   "outputs": [
    {
     "name": "stdout",
     "output_type": "stream",
     "text": [
      "a is:  140\n"
     ]
    }
   ],
   "source": [
    "#global variables\n",
    "total=0\n",
    "def add(n1=0, n2=10):\n",
    "    global total      # to access the total inside the add function use the key word global (means here total has a global scopr)\n",
    "    total= n1+n2\n",
    "    return total\n",
    "\n",
    "add(10,30)\n",
    "\n",
    "a= total+100\n",
    "print(\"a is: \",a)"
   ]
  },
  {
   "cell_type": "markdown",
   "id": "d24bc0dc",
   "metadata": {},
   "source": [
    "In Python, annotations are a way to add metadata (especially type hints) to function parameters and return values. They don’t change how the code runs but are helpful for code readability, documentation, static type checking, and tooling support (like with mypy, pylint, or IDEs like VSCode and PyCharm)."
   ]
  },
  {
   "cell_type": "code",
   "execution_count": null,
   "id": "c2265b75",
   "metadata": {},
   "outputs": [
    {
     "name": "stdout",
     "output_type": "stream",
     "text": [
      "31.0\n",
      "{'name': <class 'str'>, 'age': <class 'int'>, 'return': <class 'str'>}\n"
     ]
    },
    {
     "data": {
      "text/plain": [
       "{'average': 2.5}"
      ]
     },
     "execution_count": 26,
     "metadata": {},
     "output_type": "execute_result"
    }
   ],
   "source": [
    "#annonations \n",
    "def add(n1:int,n2:int)-> None:\n",
    "    return n1+n2\n",
    "print(add(10.5,20.5))\n",
    "\n",
    "\n",
    "def greet(name: str, age: int) -> str:\n",
    "    return f\"Hello {name}, you are {age} years old.\"\n",
    "print(greet.__annotations__)   # gives all the annotations\n",
    "\n",
    "\n",
    "\n",
    "# Advanced Annotations\n",
    "from typing import List, Dict, Tuple\n",
    "\n",
    "def process(scores: List[int]) -> Dict[str, float]:\n",
    "    return {\"average\": sum(scores)/len(scores)}\n",
    "process([1,2,3,4])\n",
    "\n",
    "\n"
   ]
  }
 ],
 "metadata": {
  "kernelspec": {
   "display_name": "Python 3",
   "language": "python",
   "name": "python3"
  },
  "language_info": {
   "codemirror_mode": {
    "name": "ipython",
    "version": 3
   },
   "file_extension": ".py",
   "mimetype": "text/x-python",
   "name": "python",
   "nbconvert_exporter": "python",
   "pygments_lexer": "ipython3",
   "version": "3.9.8"
  }
 },
 "nbformat": 4,
 "nbformat_minor": 5
}
