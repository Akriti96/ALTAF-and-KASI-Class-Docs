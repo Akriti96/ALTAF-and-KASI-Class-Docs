{
 "cells": [
  {
   "cell_type": "markdown",
   "id": "ed68e075",
   "metadata": {},
   "source": [
    "Strings are sequence of Characters\n",
    "\n",
    "In Python specifically, strings are a sequence of Unicode Characters\n",
    "Creating Strings\n",
    "Accessing Strings\n",
    "Adding Chars to Strings\n",
    "Editing Strings\n",
    "Deleting Strings\n",
    "Operations on Strings\n",
    "String Functions"
   ]
  },
  {
   "cell_type": "code",
   "execution_count": 98,
   "id": "209c8a1f",
   "metadata": {},
   "outputs": [
    {
     "name": "stdout",
     "output_type": "stream",
     "text": [
      "hello\n"
     ]
    }
   ],
   "source": [
    "# Creating Strings\n",
    "s = 'hello'\n",
    "s = \"hello\"\n",
    "# multiline strings\n",
    "s = '''hello'''\n",
    "s = \"\"\"hello\"\"\"\n",
    "s = str('hello')\n",
    "print(s)"
   ]
  },
  {
   "cell_type": "markdown",
   "id": "39d61374",
   "metadata": {},
   "source": [
    "Accessing Substrings from a String"
   ]
  },
  {
   "cell_type": "code",
   "execution_count": 99,
   "id": "2aba8844",
   "metadata": {},
   "outputs": [
    {
     "name": "stdout",
     "output_type": "stream",
     "text": [
      "J\n",
      "Johan\n",
      "a\n",
      "Johan\n",
      "ohan\n",
      "J\n",
      "an\n"
     ]
    }
   ],
   "source": [
    "# positive indexing and slicing ( : is called slicing operator)\n",
    "name=\"Johan\"\n",
    "# indexing\n",
    "\n",
    "print(name[0])   # +ve index indiviual letters \n",
    "print(name[:])   # entire string\n",
    "print(name[3])\n",
    "\n",
    "\n",
    "print(name[0:])  # from 0th index to all character\n",
    "print(name[1:])  # from 1st index to all character\n",
    "print(name[:1])  # :1 means get the character before the 1st index \n",
    "# name[3:5]=\"rt\"  \n",
    "x= name[3:5]      # character btw 3:5 (5 is excluded here)\n",
    "print(x)"
   ]
  },
  {
   "cell_type": "code",
   "execution_count": 100,
   "id": "988bb1b4",
   "metadata": {},
   "outputs": [
    {
     "name": "stdout",
     "output_type": "stream",
     "text": [
      "5\n"
     ]
    }
   ],
   "source": [
    "name=\"johan\"\n",
    "print(len(name))   # to check total number of characters inside the string"
   ]
  },
  {
   "cell_type": "code",
   "execution_count": 101,
   "id": "c0c287eb",
   "metadata": {},
   "outputs": [
    {
     "name": "stdout",
     "output_type": "stream",
     "text": [
      "n\n",
      "ha\n",
      "oh\n",
      "joha\n",
      "\n",
      "\n",
      "??\n"
     ]
    }
   ],
   "source": [
    "# Negative indexing and slicing \n",
    "name=\"johan\"\n",
    "print(name[-1])\n",
    "print(name[-3:-1])\n",
    "print(name[1:3])\n",
    "print(name[:-1])\n",
    "\n",
    "print(\"\\n\")\n",
    "data=\"Hello sundar, How are you??\"\n",
    "print(data[-2:])\n"
   ]
  },
  {
   "cell_type": "markdown",
   "id": "30661e09",
   "metadata": {},
   "source": [
    "Editing and Deleting in Strings"
   ]
  },
  {
   "cell_type": "code",
   "execution_count": 102,
   "id": "4e713372",
   "metadata": {},
   "outputs": [
    {
     "ename": "TypeError",
     "evalue": "'str' object does not support item assignment",
     "output_type": "error",
     "traceback": [
      "\u001b[1;31m---------------------------------------------------------------------------\u001b[0m",
      "\u001b[1;31mTypeError\u001b[0m                                 Traceback (most recent call last)",
      "Cell \u001b[1;32mIn[102], line 2\u001b[0m\n\u001b[0;32m      1\u001b[0m s \u001b[38;5;241m=\u001b[39m \u001b[38;5;124m'\u001b[39m\u001b[38;5;124mhello world\u001b[39m\u001b[38;5;124m'\u001b[39m\n\u001b[1;32m----> 2\u001b[0m \u001b[43ms\u001b[49m\u001b[43m[\u001b[49m\u001b[38;5;241;43m0\u001b[39;49m\u001b[43m]\u001b[49m \u001b[38;5;241m=\u001b[39m \u001b[38;5;124m'\u001b[39m\u001b[38;5;124mH\u001b[39m\u001b[38;5;124m'\u001b[39m\n\u001b[0;32m      4\u001b[0m \u001b[38;5;66;03m# Python strings are immutable to over come this use below steps\u001b[39;00m\n",
      "\u001b[1;31mTypeError\u001b[0m: 'str' object does not support item assignment"
     ]
    }
   ],
   "source": [
    "s = 'hello world'\n",
    "s[0] = 'H'\n",
    "\n",
    "# Python strings are immutable to over come this use below steps"
   ]
  },
  {
   "cell_type": "code",
   "execution_count": null,
   "id": "1c5f0dae",
   "metadata": {},
   "outputs": [
    {
     "ename": "NameError",
     "evalue": "name 's' is not defined",
     "output_type": "error",
     "traceback": [
      "\u001b[1;31m---------------------------------------------------------------------------\u001b[0m",
      "\u001b[1;31mNameError\u001b[0m                                 Traceback (most recent call last)",
      "Cell \u001b[1;32mIn[14], line 3\u001b[0m\n\u001b[0;32m      1\u001b[0m s \u001b[38;5;241m=\u001b[39m \u001b[38;5;124m'\u001b[39m\u001b[38;5;124mhello world\u001b[39m\u001b[38;5;124m'\u001b[39m\n\u001b[0;32m      2\u001b[0m \u001b[38;5;28;01mdel\u001b[39;00m s\n\u001b[1;32m----> 3\u001b[0m \u001b[38;5;28mprint\u001b[39m(\u001b[43ms\u001b[49m)\n",
      "\u001b[1;31mNameError\u001b[0m: name 's' is not defined"
     ]
    }
   ],
   "source": [
    "s = 'hello world'\n",
    "del s\n",
    "print(s)  # since s is deleted in the pervious steps you cant access that variable"
   ]
  },
  {
   "cell_type": "markdown",
   "id": "a066743c",
   "metadata": {},
   "source": [
    "Operations on Strings\n",
    "\n",
    "- Arithmetic Operations\n",
    "- Relational Operations\n",
    "- Logical Operations\n",
    "- Loops on Strings\n",
    "- Membership Operations"
   ]
  },
  {
   "cell_type": "markdown",
   "id": "53b47b1e",
   "metadata": {},
   "source": [
    "Arithmetic Operations"
   ]
  },
  {
   "cell_type": "code",
   "execution_count": null,
   "id": "d10bbb8d",
   "metadata": {},
   "outputs": [
    {
     "name": "stdout",
     "output_type": "stream",
     "text": [
      "delhi mumbai\n",
      "delhidelhidelhidelhidelhi\n",
      "**************************************************\n",
      "False\n"
     ]
    }
   ],
   "source": [
    "print('delhi' + ' ' + 'mumbai')\n",
    "print('delhi'*5)\n",
    "print(\"*\"*50)\n",
    "print(\"delhi\"!=\"delhi\")"
   ]
  },
  {
   "cell_type": "markdown",
   "id": "c29c9fa6",
   "metadata": {},
   "source": [
    "In Python, string comparison is done lexicographically, meaning it compares strings character by character based on their Unicode (or ASCII) values. Each character in a string has a numeric value (e.g., 'a' is 97, 'A' is 65, etc.), and Python uses these values to determine which string is \"greater.\" A string is considered \"greater\" if it comes later in lexicographical order (like in a dictionary). Here’s how it works:\n",
    "\n",
    "How String Comparison Works:\n",
    "Python compares the characters of both strings from left to right.\n",
    "For each position, it compares the Unicode values of the characters.\n",
    "If one character has a higher Unicode value, that string is considered \"greater,\" and the comparison stops there.\n",
    "If the characters are the same, Python moves to the next position.\n",
    "If one string is a prefix of the other (i.e., it runs out of characters first), the shorter string is considered \"less than\" the longer one, unless they’re identical up to that point.\n",
    "\n",
    "Unicode Values:\n",
    "Lowercase letters (a-z) have Unicode values from 97 (a) to 122 (z).\n",
    "Uppercase letters (A-Z) have Unicode values from 65 (A) to 90 (Z).\n",
    "This means uppercase letters are \"less than\" lowercase letters in terms of Unicode values (e.g., 'A' < 'a')."
   ]
  },
  {
   "cell_type": "markdown",
   "id": "7b14ebfb",
   "metadata": {},
   "source": [
    "Relational Operations"
   ]
  },
  {
   "cell_type": "code",
   "execution_count": null,
   "id": "1a0cc1b4",
   "metadata": {},
   "outputs": [
    {
     "name": "stdout",
     "output_type": "stream",
     "text": [
      "False\n",
      "80\n",
      "112\n",
      "False\n"
     ]
    }
   ],
   "source": [
    "''' \n",
    "First Comparison: 'mumbai' > 'pune'\n",
    "Python compares the strings 'mumbai' and 'pune' character by character:\n",
    "Position 1: 'm' (Unicode 109) vs. 'p' (Unicode 112). Since 109 < 112, Python stops here.\n",
    "Because 'm' comes before 'p' in Unicode order, 'mumbai' is lexicographically less than 'pune'.\n",
    "Thus, 'mumbai' > 'pune' evaluates to False.\n",
    "'''\n",
    "print('mumbai' > 'pune')   \n",
    "\n",
    "''' compare 'Pune' and 'pune':\n",
    "Position 1: 'P' (Unicode 80) vs. 'p' (Unicode 112). Since 80 < 112, Python stops here.\n",
    "The uppercase 'P' has a lower Unicode value than the lowercase 'p', so 'Pune' is lexicographically less than 'pune'.\n",
    "Thus, 'Pune' > 'pune' evaluates to False.'''\n",
    "\n",
    "'''if u want to check order of any character use the below code'''\n",
    "print(ord('P'))\n",
    "print(ord('p'))\n",
    "\n",
    "print('Pune' > 'pune')"
   ]
  },
  {
   "cell_type": "markdown",
   "id": "f4c0060d",
   "metadata": {},
   "source": [
    "Logical Operations"
   ]
  },
  {
   "cell_type": "code",
   "execution_count": null,
   "id": "ccc42dd2",
   "metadata": {},
   "outputs": [
    {
     "name": "stdout",
     "output_type": "stream",
     "text": [
      "world\n",
      "hello\n",
      "\n",
      "world\n",
      "False\n"
     ]
    }
   ],
   "source": [
    "print('hello' and 'world')\n",
    "print('hello' or 'world')\n",
    "print('' and 'world')\n",
    "print('' or 'world')\n",
    "print(not 'hello')"
   ]
  },
  {
   "cell_type": "markdown",
   "id": "b29095d5",
   "metadata": {},
   "source": [
    "Loops on Strings"
   ]
  },
  {
   "cell_type": "code",
   "execution_count": null,
   "id": "b1ccf2b1",
   "metadata": {},
   "outputs": [
    {
     "name": "stdout",
     "output_type": "stream",
     "text": [
      "h\n",
      "e\n",
      "l\n",
      "l\n",
      "o\n"
     ]
    }
   ],
   "source": [
    "for i in 'hello':\n",
    "    print(i)"
   ]
  },
  {
   "cell_type": "code",
   "execution_count": null,
   "id": "5adf63e9",
   "metadata": {},
   "outputs": [
    {
     "name": "stdout",
     "output_type": "stream",
     "text": [
      "Pune\n",
      "Pune\n",
      "Pune\n",
      "Pune\n",
      "Pune\n",
      "Pune\n"
     ]
    }
   ],
   "source": [
    "for i in 'Mumbai':\n",
    "    print('Pune')"
   ]
  },
  {
   "cell_type": "code",
   "execution_count": null,
   "id": "3cb67d9c",
   "metadata": {},
   "outputs": [
    {
     "name": "stdout",
     "output_type": "stream",
     "text": [
      "True\n",
      "True\n"
     ]
    }
   ],
   "source": [
    "print('d' in 'delhi')\n",
    "\n",
    "print('D' not in 'delhi')"
   ]
  },
  {
   "cell_type": "markdown",
   "id": "802cf242",
   "metadata": {},
   "source": [
    "Common Functions\n",
    "len\n",
    "max\n",
    "min\n",
    "sorted"
   ]
  },
  {
   "cell_type": "code",
   "execution_count": null,
   "id": "fa50015b",
   "metadata": {},
   "outputs": [
    {
     "name": "stdout",
     "output_type": "stream",
     "text": [
      "11\n",
      "w\n",
      "r\n",
      " \n",
      "['w', 'r', 'o', 'o', 'l', 'l', 'l', 'h', 'e', 'd', ' ']\n"
     ]
    }
   ],
   "source": [
    "print(len('hello world'))\n",
    "\n",
    "print(max('hello world'))   \n",
    "# here again we do lexicographic comparison(Unicode) h = 104, e = 101, l = 108, l = 108, o = 111.(space) = 32. w = 119, o = 111, r = 114, l = 108, d = 100.\n",
    "print(max(\"World123\"))\n",
    "\n",
    "print(min('hello world'))\n",
    "\n",
    "print(sorted('hello world',reverse=True))"
   ]
  },
  {
   "cell_type": "markdown",
   "id": "009f3daa",
   "metadata": {},
   "source": [
    "Capitalize/Title/Upper/Lower/Swapcase"
   ]
  },
  {
   "cell_type": "code",
   "execution_count": null,
   "id": "755aae9c",
   "metadata": {},
   "outputs": [
    {
     "name": "stdout",
     "output_type": "stream",
     "text": [
      "Hello world\n",
      "hello world\n"
     ]
    }
   ],
   "source": [
    "s = 'hello world'\n",
    "print(s.capitalize())   # 1st letter in the strings is converted to Upper case in capitalize\n",
    "print(s)"
   ]
  },
  {
   "cell_type": "code",
   "execution_count": null,
   "id": "33a52b92",
   "metadata": {},
   "outputs": [
    {
     "data": {
      "text/plain": [
       "'Hello World'"
      ]
     },
     "execution_count": 55,
     "metadata": {},
     "output_type": "execute_result"
    }
   ],
   "source": [
    "s.title()"
   ]
  },
  {
   "cell_type": "code",
   "execution_count": null,
   "id": "379bf456",
   "metadata": {},
   "outputs": [
    {
     "name": "stdout",
     "output_type": "stream",
     "text": [
      "hello world\n"
     ]
    }
   ],
   "source": [
    "'Hello World'.lower()\n",
    "\n",
    "# method 2\n",
    "s='Hello World'\n",
    "print(s.lower())\n"
   ]
  },
  {
   "cell_type": "code",
   "execution_count": null,
   "id": "ce70dad8",
   "metadata": {},
   "outputs": [
    {
     "data": {
      "text/plain": [
       "'hElLo wORld'"
      ]
     },
     "execution_count": 58,
     "metadata": {},
     "output_type": "execute_result"
    }
   ],
   "source": [
    "'HeLlO WorLD'.swapcase()   # swaping Upper Case to Lower Case Visa-versa"
   ]
  },
  {
   "cell_type": "markdown",
   "id": "5bc3f4fe",
   "metadata": {},
   "source": [
    "Count/Find/Index"
   ]
  },
  {
   "cell_type": "code",
   "execution_count": null,
   "id": "a4713ee2",
   "metadata": {},
   "outputs": [
    {
     "data": {
      "text/plain": [
       "3"
      ]
     },
     "execution_count": 61,
     "metadata": {},
     "output_type": "execute_result"
    }
   ],
   "source": [
    "'My name is Yamuna'.count('a')  # we have 3 a character in the string"
   ]
  },
  {
   "cell_type": "code",
   "execution_count": null,
   "id": "eef83939",
   "metadata": {},
   "outputs": [
    {
     "data": {
      "text/plain": [
       "4"
      ]
     },
     "execution_count": 65,
     "metadata": {},
     "output_type": "execute_result"
    }
   ],
   "source": [
    "'My name is Yamuna'.find('a')    # its finding letter a in the strings and if we have same letter repetaed in the strings its fetch the 1st index of the letter"
   ]
  },
  {
   "cell_type": "code",
   "execution_count": null,
   "id": "09f94aec",
   "metadata": {},
   "outputs": [
    {
     "data": {
      "text/plain": [
       "11"
      ]
     },
     "execution_count": 66,
     "metadata": {},
     "output_type": "execute_result"
    }
   ],
   "source": [
    "'My name is Yamuna'.index('Y')   # get the index of the letter we searching"
   ]
  },
  {
   "cell_type": "markdown",
   "id": "a25d5c45",
   "metadata": {},
   "source": [
    "endswith/startswith"
   ]
  },
  {
   "cell_type": "code",
   "execution_count": null,
   "id": "bcb39bf8",
   "metadata": {},
   "outputs": [
    {
     "data": {
      "text/plain": [
       "False"
      ]
     },
     "execution_count": 71,
     "metadata": {},
     "output_type": "execute_result"
    }
   ],
   "source": [
    "'my name is Yamuna'.endswith('una')\n",
    "\n",
    "'my name is Yamuna'.endswith('sho')\n",
    "\n",
    "'my name is Yamuna'.startswith('name')"
   ]
  },
  {
   "cell_type": "markdown",
   "id": "c91f8c25",
   "metadata": {},
   "source": [
    "Split/Join"
   ]
  },
  {
   "cell_type": "code",
   "execution_count": null,
   "id": "962c86fc",
   "metadata": {},
   "outputs": [
    {
     "name": "stdout",
     "output_type": "stream",
     "text": [
      "4\n",
      "\n",
      "\n",
      "\n",
      "\n"
     ]
    }
   ],
   "source": [
    "s='D:\\MY CLASSES\\STUDENTS\\AMIR and Kasi sir classes'\n",
    "x=s.split(\"\\\\\")\n",
    "x\n",
    "print(len(x))\n",
    "string=\"\"\n",
    "for i  in x:\n",
    "    if len(x)>4:\n",
    "        string+=i+\"\\\\\"\n",
    "    print(string)\n",
    "        \n"
   ]
  },
  {
   "cell_type": "code",
   "execution_count": null,
   "id": "1c5ebb77",
   "metadata": {},
   "outputs": [
    {
     "name": "stdout",
     "output_type": "stream",
     "text": [
      "apple cat cow\n",
      "apple-cat-cow\n",
      "apple\n",
      "applehebanana\n"
     ]
    }
   ],
   "source": [
    "name=\"he\"\n",
    "number=123\n",
    "# print(name + str(number))\n",
    "\n",
    "print(' '.join([\"apple\",\"cat\",\"cow\"]))           # '  ' is act like separator\n",
    "\n",
    "print('-'.join([\"apple\",\"cat\",\"cow\"]))\n",
    "\n",
    "print(name.join(['apple']))     # list containe only one value separator is not applied here\n",
    "print(name.join(['apple', 'banana']))   # now separator he is applied btw apple and banana\n"
   ]
  },
  {
   "cell_type": "code",
   "execution_count": null,
   "id": "50c44101",
   "metadata": {},
   "outputs": [
    {
     "name": "stdout",
     "output_type": "stream",
     "text": [
      "Amir Altaf\n"
     ]
    }
   ],
   "source": [
    "# replace method\n",
    "s=\"Amir and Kasi\"\n",
    "a=s.replace(\" and Kasi\",\" Altaf\")\n",
    "print(a)"
   ]
  },
  {
   "cell_type": "code",
   "execution_count": 119,
   "id": "5165cdc1",
   "metadata": {},
   "outputs": [
    {
     "data": {
      "text/plain": [
       "'Yamuna'"
      ]
     },
     "execution_count": 119,
     "metadata": {},
     "output_type": "execute_result"
    }
   ],
   "source": [
    "#Strip   delete the trailing and leading white spaces\n",
    "'Yamuna                          '.strip()\n",
    "'                     Yamuna                          '.strip()\n",
    "'                     Yamuna'.strip()"
   ]
  },
  {
   "cell_type": "markdown",
   "id": "3fd6739c",
   "metadata": {},
   "source": [
    "Example Programs\n"
   ]
  },
  {
   "cell_type": "code",
   "execution_count": 120,
   "id": "e0e6e089",
   "metadata": {},
   "outputs": [
    {
     "name": "stdout",
     "output_type": "stream",
     "text": [
      "length of string is 6\n"
     ]
    }
   ],
   "source": [
    "# Find the length of a given string without using the len() function\n",
    "\n",
    "s = input('enter the string')\n",
    "\n",
    "counter = 0\n",
    "\n",
    "for i in s:\n",
    "  counter += 1\n",
    "\n",
    "print('length of string is',counter)"
   ]
  },
  {
   "cell_type": "code",
   "execution_count": 121,
   "id": "8f08b374",
   "metadata": {},
   "outputs": [
    {
     "name": "stdout",
     "output_type": "stream",
     "text": [
      "yamunagowda\n"
     ]
    }
   ],
   "source": [
    "# Extract username from a given email. \n",
    "# Eg if the email is yamunagowda@gmail.com \n",
    "# then the username should be yamunagowda\n",
    "\n",
    "s = input('enter the email')\n",
    "\n",
    "pos = s.index('@')\n",
    "print(s[0:pos])\n"
   ]
  },
  {
   "cell_type": "code",
   "execution_count": null,
   "id": "d83f2e73",
   "metadata": {},
   "outputs": [],
   "source": []
  }
 ],
 "metadata": {
  "kernelspec": {
   "display_name": "Python 3",
   "language": "python",
   "name": "python3"
  },
  "language_info": {
   "codemirror_mode": {
    "name": "ipython",
    "version": 3
   },
   "file_extension": ".py",
   "mimetype": "text/x-python",
   "name": "python",
   "nbconvert_exporter": "python",
   "pygments_lexer": "ipython3",
   "version": "3.9.8"
  }
 },
 "nbformat": 4,
 "nbformat_minor": 5
}
