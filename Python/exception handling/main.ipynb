{
 "cells": [
  {
   "cell_type": "markdown",
   "id": "909e0a43",
   "metadata": {},
   "source": [
    "## Error Occurs in three stages\n",
    "- Syntax Errors (before running)\n",
    "- Runtime Errors (while running)\n",
    "- Code runs fine, no crash… but the result is wrong.\n"
   ]
  },
  {
   "cell_type": "markdown",
   "id": "cb87499d",
   "metadata": {},
   "source": [
    "## Notes\n",
    "- **BaseException** → Root of all built-in exceptions.  \n",
    "- **SystemExit, KeyboardInterrupt, GeneratorExit** → Special control-flow exceptions.  \n",
    "- **Exception** → Parent for most runtime errors.  \n",
    "- Subclasses like **ValueError**, **TypeError**, **KeyError**, etc. are the ones you’ll catch most often.  \n",
    "\n"
   ]
  },
  {
   "cell_type": "code",
   "execution_count": null,
   "id": "55722c18",
   "metadata": {},
   "outputs": [],
   "source": [
    "'''\n",
    "\n",
    "BaseException\n",
    "├── SystemExit\n",
    "├── KeyboardInterrupt\n",
    "├── GeneratorExit\n",
    "└── Exception 👈 most errors we deal with\n",
    "├── ArithmeticError\n",
    "│ ├── ZeroDivisionError\n",
    "│ └── OverflowError\n",
    "│\n",
    "├── LookupError\n",
    "│ ├── IndexError\n",
    "│ └── KeyError\n",
    "│\n",
    "├── ValueError\n",
    "│ └── UnicodeError\n",
    "│\n",
    "├── TypeError\n",
    "├── FileNotFoundError\n",
    "├── PermissionError\n",
    "├── ImportError\n",
    "└── RuntimeError\n",
    "\n",
    "'''"
   ]
  },
  {
   "cell_type": "markdown",
   "id": "e277aca8",
   "metadata": {},
   "source": [
    "# Error handling in Python is done using a few special keywords.  \n",
    "**Keywords**:\n",
    "1. try - to test for errors\n",
    "2. except - runs if error occurs\n",
    "3. else - runs if no error occurs inside the try block\n",
    "4. finally - run no matter what error (used for closing files. releasing resources)\n",
    "5. raise - used to throw the exception manually\n"
   ]
  },
  {
   "cell_type": "code",
   "execution_count": 7,
   "id": "c3c44c3d",
   "metadata": {},
   "outputs": [
    {
     "name": "stdout",
     "output_type": "stream",
     "text": [
      "invalid literal for int() with base 10: 'abc'\n"
     ]
    }
   ],
   "source": [
    "# # Try -except\n",
    "# try:\n",
    "#     x= 10/0\n",
    "#     print(x)\n",
    "# except:\n",
    "#     print(\"handle error\")\n",
    "\n",
    "\n",
    "# class called exception class \n",
    "try:\n",
    "    # x= 10/0\n",
    "    x= int(\"abc\")\n",
    "    print(x)\n",
    "except Exception as e:\n",
    "    print(e)"
   ]
  },
  {
   "cell_type": "code",
   "execution_count": null,
   "id": "83e0186b",
   "metadata": {},
   "outputs": [
    {
     "name": "stdout",
     "output_type": "stream",
     "text": [
      "invalid literal for int() with base 10: 'abc'\n"
     ]
    }
   ],
   "source": [
    "# catching any error\n"
   ]
  },
  {
   "cell_type": "code",
   "execution_count": 9,
   "id": "c7e84b0f",
   "metadata": {},
   "outputs": [
    {
     "name": "stdout",
     "output_type": "stream",
     "text": [
      "Converstion failed\n"
     ]
    }
   ],
   "source": [
    "# Multiple excepts\n",
    "try:\n",
    "    x= int(\"xyz\")\n",
    "    y=10/0\n",
    "except ValueError :\n",
    "    print(\"Converstion failed\")\n",
    "except ZeroDivisionError:\n",
    "    print(\"Divison by zero not possible\")\n",
    "\n"
   ]
  },
  {
   "cell_type": "code",
   "execution_count": 11,
   "id": "a1f0646a",
   "metadata": {},
   "outputs": [
    {
     "name": "stdout",
     "output_type": "stream",
     "text": [
      "invalid literal for int() with base 10: 'abc'\n",
      "Done!!\n"
     ]
    }
   ],
   "source": [
    "# Adding else and finally\n",
    "try:\n",
    "    num= int(\"abc\")\n",
    "except Exception as e:\n",
    "    print(e)\n",
    "else:\n",
    "    print(\"success\")\n",
    "finally:\n",
    "    print(\"Done!!\")\n",
    "\n"
   ]
  },
  {
   "cell_type": "code",
   "execution_count": 13,
   "id": "c8530deb",
   "metadata": {},
   "outputs": [
    {
     "name": "stdout",
     "output_type": "stream",
     "text": [
      "x cannot be negative\n"
     ]
    }
   ],
   "source": [
    "# Raise error \n",
    "\n",
    "try:\n",
    "    x= -5\n",
    "    if x<0:\n",
    "        raise ValueError(\"x cannot be negative\")\n",
    "except Exception as e:\n",
    "    print(e)\n",
    "   \n",
    "\n",
    "\n"
   ]
  },
  {
   "cell_type": "code",
   "execution_count": 22,
   "id": "a65649b2",
   "metadata": {},
   "outputs": [
    {
     "name": "stdout",
     "output_type": "stream",
     "text": [
      "<built-in method with_traceback of ValueError object at 0x00000223936287C0>\n",
      "<built-in method with_traceback of ValueError object at 0x00000223936287C0>\n",
      " total numbers in a data.txt is 4\n"
     ]
    }
   ],
   "source": [
    "# read the numbers in a given file and skip the string data\n",
    "def read_numbers_from_file(filename):\n",
    "    count=0\n",
    "    try:\n",
    "        with open(filename,\"r\") as f:\n",
    "            data= f.readlines()\n",
    "        numbers= [x.strip()  for x in data]\n",
    "        for i in numbers:\n",
    "            try:\n",
    "                check= int(i)\n",
    "                count+=1\n",
    "            except Exception as e:\n",
    "                print(e.with_traceback)\n",
    "        \n",
    "    except FileNotFoundError:\n",
    "        print(\"file not found Please check the filename\")\n",
    "\n",
    "    finally:\n",
    "        print(f\" total numbers in a {filename} is {count}\")\n",
    "\n",
    "read_numbers_from_file(\"data.txt\")\n"
   ]
  },
  {
   "cell_type": "code",
   "execution_count": 68,
   "id": "989b7877",
   "metadata": {},
   "outputs": [
    {
     "name": "stdout",
     "output_type": "stream",
     "text": [
      "2025-09-09 17:41:48\n",
      "invalid literal for int() with base 10: 'abc'\n",
      "60000\n",
      "12000\n",
      "45000\n",
      "-1000\n",
      "file exceution done successfully\n",
      "Done with file operation\n",
      "AvG Salary 39000.0\n",
      "Highest salary 60000\n",
      "Lowest salary 12000\n",
      "Total employess 3\n"
     ]
    }
   ],
   "source": [
    "# read th csv\n",
    "#  anaylse salaries average salary highest salary lowest salary total employees\n",
    "# store the all logs in logo.txt (with date and time)\n",
    "\n",
    "\n",
    "# check the salary, type, should be int  should be greater than 0, , append the employee details to  employess list\n",
    "\n",
    "from datetime import datetime\n",
    "import csv\n",
    "print(datetime.now().strftime(\"%Y-%m-%d %H:%M:%S\"))\n",
    "\n",
    "def read_csv(filename, error_log=\"errorslog.txt\"):\n",
    "    employess=[]\n",
    "    try:\n",
    "        with open(filename,\"r\") as f, open(error_log,\"w\") as log:\n",
    "            reader= csv.DictReader(f)\n",
    "            for row in reader:\n",
    "                # check the type of salary\n",
    "                try:\n",
    "                    salary= int(row['salary'])  #  int   abc\n",
    "                    print(salary)\n",
    "                    if salary < 0:\n",
    "                        timestamp= datetime.now().strftime(\"%Y-%m-%d %H:%M:%S\")\n",
    "                        msg= f\"{timestamp} Negative salary for {row['name']} {row['salary']}\\n\"\n",
    "                        log.write(msg)\n",
    "                        continue\n",
    "                    employess.append({\n",
    "                            \"id\": row[\"id\"],\n",
    "                            \"name\":row[\"name\"],\n",
    "                            \"salary\":row[\"salary\"]\n",
    "                    })\n",
    "                except Exception as e:\n",
    "                    print(e)\n",
    "                    timestamp= datetime.now().strftime(\"%Y-%m-%d %H:%M:%S\")\n",
    "                    msg= f\"{timestamp} Invalid Salary format for {row['name']} {row['salary']} {e}\\n\"\n",
    "                    log.write(msg)\n",
    "\n",
    "    except FileNotFoundError:\n",
    "        print(\"File Not found\")\n",
    "\n",
    "    else:\n",
    "        print(\"file exceution done successfully\")\n",
    "        return employess\n",
    "    finally:\n",
    "        print(\"Done with file operation\")\n",
    "\n",
    "\n",
    "\n",
    "#  anaylse salaries - average salary highest salary lowest salary total employees\n",
    "def anayze(employess):\n",
    "    if not employess:\n",
    "        return\n",
    "    salaries= [int(s['salary']) for s in employess]\n",
    "    # print(type(salaries))\n",
    "    # print(salaries)\n",
    "    # print(sum(salaries))\n",
    "    print(\"AvG Salary\", sum(salaries)/len(salaries))\n",
    "    print(\"Highest salary\", max(salaries))\n",
    "    print(\"Lowest salary\", min(salaries))\n",
    "    print(\"Total employess\",len(employess))\n",
    "\n",
    "data= read_csv(\"employees.csv\")\n",
    "anayze(data)\n"
   ]
  },
  {
   "cell_type": "markdown",
   "id": "596c29c9",
   "metadata": {},
   "source": [
    "##  Assignments \n",
    " Write a python function which infinitely prints natural numbers in a single line. Raise the **StopIteration** exception after displaying first 20 numnbers to exit from the program\n",
    "\n",
    " Write a program that validate name and age as entered by the user to determine whether the person can cast vote or not. To handle the age, create **InvalidAge** exception and for name, create **InvalidName** exception. The name will be invalid when the string will be empty or name has only one word.\n",
    "\n",
    " Write a number game program. Ask the user to enter a number. If the number is greater than number to be guessed, raise a **ValueTooLarge** exception. If the value is smaller the number to be guessed the, raise a **ValueTooSmall** exception and prompt the user to enter again. Quit the program only when the user enters the correct number. Also raise **GuessError** if user guess a number less than 1.\n",
    "\n",
    "\n",
    "### You are given a code snippet. There might be several issues on execution of this code. You are asked to do exception handling for diffrent errors, condition is what ever happens we need to execute last line printing correct result of `sum of elements`.\n",
    "\n",
    "List have elemnts as any no of  `key-pair dict with key as list index and value as any integer`, `integers` and `numeric-strings`. There is always only one element in the dict.\n",
    "\n",
    "\n",
    "```\n",
    "l = [{0:2},2,3,4,'5', {5:10}]\n",
    "# For calculating sum of above list\n",
    "s=0\n",
    "for i in range(len(l)):\n",
    "    #You can Edit code from here\n",
    "    s += l[i].get(i)\n",
    "    s += l[i]\n",
    "    s += int(l[i])\n",
    "\n",
    "\n",
    "print(s)\n",
    "```"
   ]
  }
 ],
 "metadata": {
  "kernelspec": {
   "display_name": "Python 3",
   "language": "python",
   "name": "python3"
  },
  "language_info": {
   "codemirror_mode": {
    "name": "ipython",
    "version": 3
   },
   "file_extension": ".py",
   "mimetype": "text/x-python",
   "name": "python",
   "nbconvert_exporter": "python",
   "pygments_lexer": "ipython3",
   "version": "3.9.8"
  }
 },
 "nbformat": 4,
 "nbformat_minor": 5
}
